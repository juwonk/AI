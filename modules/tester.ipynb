{
 "cells": [
  {
   "cell_type": "code",
   "execution_count": 80,
   "metadata": {},
   "outputs": [],
   "source": [
    "import os\n",
    "import sys\n",
    "import pandas as pd\n",
    "import numpy as np\n",
    "from scipy import stats"
   ]
  },
  {
   "cell_type": "code",
   "execution_count": 27,
   "metadata": {},
   "outputs": [],
   "source": [
    "def LoadINPUT(file):\n",
    "    D1 = pd.read_csv(file, index_col=0)\n",
    "    return(D1.iloc[:-1,:], D1.loc['Group',:]) #return : (x, y) y~last column named 'Group' & [0.1/0.9]\n",
    "    "
   ]
  },
  {
   "cell_type": "code",
   "execution_count": 182,
   "metadata": {},
   "outputs": [],
   "source": [
    "file = \"../examples/input_example.csv\"\n",
    "D_main = LoadINPUT(file)"
   ]
  },
  {
   "cell_type": "code",
   "execution_count": 183,
   "metadata": {},
   "outputs": [],
   "source": [
    "def FeatureStats(data, label, pval = 0.05):    \n",
    "    TaxaIDs = []\n",
    "    Levens = []\n",
    "    Equality = []\n",
    "    TPs = []\n",
    "    Avg = []\n",
    "\n",
    "    for i in range(data.shape[0]):\n",
    "        D_i = data.iloc[i,:]\n",
    "\n",
    "        #shaP = stats.shapiro(D_i)[1]\n",
    "        levP = stats.levene(D_i[label == 0.1], D_i[label == 0.9])[1]\n",
    "        #print(shaP, levP)\n",
    "        equl = (levP > pval)\n",
    "        if(equl): #두 그룹의 분산이 같지 않음 -> equal_var=False\n",
    "            Pval = stats.ttest_ind(D_i[label == 0.1], D_i[label == 0.9], equal_var=True)[1]\n",
    "        else:\n",
    "            Pval = stats.ttest_ind(D_i[label == 0.1], D_i[label == 0.9], equal_var=False)[1]\n",
    "\n",
    "        TaxaIDs.append(D_i.name)\n",
    "        Levens.append(levP)\n",
    "        Equality.append(equl)\n",
    "        TPs.append(Pval)\n",
    "        Avg.append(D_i.mean())\n",
    "\n",
    "    TestResDic = {'Taxa_ID':TaxaIDs, 'Leven_Pval':Levens, 'Equal':Equality, 'Ttest_Pval':TPs, 'Average':Avg}\n",
    "    TestResDF = pd.DataFrame(TestResDic).sort_values('Average', ascending=False)\n",
    "    \n",
    "    return(TestResDF)"
   ]
  },
  {
   "cell_type": "code",
   "execution_count": 184,
   "metadata": {},
   "outputs": [],
   "source": [
    "D_stat = FeatureStats(D_main[0], D_main[1])"
   ]
  },
  {
   "cell_type": "code",
   "execution_count": null,
   "metadata": {},
   "outputs": [],
   "source": []
  },
  {
   "cell_type": "code",
   "execution_count": null,
   "metadata": {},
   "outputs": [],
   "source": []
  },
  {
   "cell_type": "code",
   "execution_count": null,
   "metadata": {},
   "outputs": [],
   "source": []
  }
 ],
 "metadata": {
  "kernelspec": {
   "display_name": "Python 3",
   "language": "python",
   "name": "python3"
  },
  "language_info": {
   "codemirror_mode": {
    "name": "ipython",
    "version": 3
   },
   "file_extension": ".py",
   "mimetype": "text/x-python",
   "name": "python",
   "nbconvert_exporter": "python",
   "pygments_lexer": "ipython3",
   "version": "3.7.4"
  }
 },
 "nbformat": 4,
 "nbformat_minor": 4
}
