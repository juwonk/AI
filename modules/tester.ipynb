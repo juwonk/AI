{
 "cells": [
  {
   "cell_type": "code",
   "execution_count": 232,
   "metadata": {},
   "outputs": [],
   "source": [
    "import os\n",
    "import sys\n",
    "import pandas as pd\n",
    "import numpy as np\n",
    "from scipy import stats\n",
    "import matplotlib.pyplot as plt"
   ]
  },
  {
   "cell_type": "code",
   "execution_count": 27,
   "metadata": {},
   "outputs": [],
   "source": [
    "def LoadINPUT(file):\n",
    "    D1 = pd.read_csv(file, index_col=0)\n",
    "    return(D1.iloc[:-1,:], D1.loc['Group',:]) #return : (x, y) y~last column named 'Group' & [0.1/0.9]\n",
    "    "
   ]
  },
  {
   "cell_type": "code",
   "execution_count": 185,
   "metadata": {},
   "outputs": [],
   "source": [
    "file = \"../examples/input_example.csv\"\n",
    "D_main = LoadINPUT(file)"
   ]
  },
  {
   "cell_type": "code",
   "execution_count": 255,
   "metadata": {},
   "outputs": [],
   "source": [
    "def FeatureStats(data, label, pval = 0.05):    \n",
    "    TaxaIDs = []\n",
    "    Levens = []\n",
    "    Equality = []\n",
    "    TPs = []\n",
    "    Avg = []\n",
    "    SD = []\n",
    "\n",
    "    for i in range(data.shape[0]):\n",
    "        D_i = data.iloc[i,:]\n",
    "\n",
    "        #shaP = stats.shapiro(D_i)[1]\n",
    "        levP = stats.levene(D_i[label == 0.1], D_i[label == 0.9])[1]\n",
    "        #print(shaP, levP)\n",
    "        equl = (levP > pval)\n",
    "        if(equl): #두 그룹의 분산이 같음 -> equal_var=True\n",
    "            Pval = stats.ttest_ind(D_i[label == 0.1], D_i[label == 0.9], equal_var=True)[1]\n",
    "        else:\n",
    "            Pval = stats.ttest_ind(D_i[label == 0.1], D_i[label == 0.9], equal_var=False)[1]\n",
    "\n",
    "        TaxaIDs.append(D_i.name)\n",
    "        Levens.append(levP)\n",
    "        Equality.append(equl)\n",
    "        TPs.append(Pval)\n",
    "        Avg.append(D_i.mean())\n",
    "        SD.append(np.std(D_i))\n",
    "\n",
    "    TestResDic = {'Taxa_ID':TaxaIDs, 'Leven_Pval':Levens, 'Equal':Equality, 'Ttest_Pval':TPs, 'Average':Avg, 'SD':SD}\n",
    "    TestResDF = pd.DataFrame(TestResDic).sort_values('Average', ascending=False).reset_index().iloc[:,1:]\n",
    "    \n",
    "    return(TestResDF)"
   ]
  },
  {
   "cell_type": "code",
   "execution_count": 256,
   "metadata": {},
   "outputs": [],
   "source": [
    "D_stat = FeatureStats(D_main[0], D_main[1])"
   ]
  },
  {
   "cell_type": "code",
   "execution_count": null,
   "metadata": {},
   "outputs": [],
   "source": []
  },
  {
   "cell_type": "code",
   "execution_count": 243,
   "metadata": {},
   "outputs": [],
   "source": [
    "def SelcFeatures(Fstat_data, Cutoff = 0.1): ## Cutoff unit: %\n",
    "    Cutoffp = Cutoff*100\n",
    "    #return(Fstat_data.iloc[:round(Fstat_data.shape[0]*Quantile),].Taxa_ID)\n",
    "    return(Fstat_data[Fstat_data.Average > Cutoff].Taxa_ID)"
   ]
  },
  {
   "cell_type": "code",
   "execution_count": 250,
   "metadata": {},
   "outputs": [],
   "source": [
    "Feas = SelcFeatures(D_stat)"
   ]
  },
  {
   "cell_type": "code",
   "execution_count": 258,
   "metadata": {},
   "outputs": [],
   "source": [
    "def Xset(Data, Features):\n",
    "    return(Data.loc[Features,:])"
   ]
  },
  {
   "cell_type": "code",
   "execution_count": 297,
   "metadata": {},
   "outputs": [],
   "source": [
    "X = Xset(D_main[0], Feas)"
   ]
  },
  {
   "cell_type": "code",
   "execution_count": null,
   "metadata": {},
   "outputs": [],
   "source": []
  },
  {
   "cell_type": "code",
   "execution_count": null,
   "metadata": {},
   "outputs": [],
   "source": [
    "def TrainTestSplit(DF, ratio=0.3, Label=0.1, Compose=True):\n",
    "    if Compose: ### 상대값으로 보정 샘플균 총량합 100\n",
    "        for i in range(DF.shape[0]):\n",
    "            DF.iloc[i,:] = (DF.iloc[i,:]/sum(DF.iloc[i,:]))*100\n",
    "    DF['Group'] = Label\n",
    "    import random\n",
    "    xi = np.arange(DF.shape[0])\n",
    "    np.random.seed(3492)\n",
    "    np.random.shuffle(xi)\n",
    "    xi = xi.tolist()\n",
    "\n",
    "    Testx = DF.iloc[xi[:round(DF.shape[0]*ratio)],:]\n",
    "    Trainx = DF.iloc[xi[round(DF.shape[0]*ratio):],:]\n",
    "    return({'TEST':Testx, 'TRAIN':Trainx})"
   ]
  },
  {
   "cell_type": "code",
   "execution_count": 287,
   "metadata": {},
   "outputs": [
    {
     "data": {
      "text/plain": [
       "16.703293088490067"
      ]
     },
     "execution_count": 287,
     "metadata": {},
     "output_type": "execute_result"
    }
   ],
   "source": [
    "np.sqrt(len(vec_sec))"
   ]
  },
  {
   "cell_type": "code",
   "execution_count": 304,
   "metadata": {},
   "outputs": [],
   "source": [
    "B = [0,0,0]"
   ]
  },
  {
   "cell_type": "code",
   "execution_count": 301,
   "metadata": {},
   "outputs": [],
   "source": [
    "B.append(B)"
   ]
  },
  {
   "cell_type": "code",
   "execution_count": 307,
   "metadata": {},
   "outputs": [
    {
     "data": {
      "text/plain": [
       "[0, 0, 0, 0, 0, 0, 0, 0, 0, 0]"
      ]
     },
     "execution_count": 307,
     "metadata": {},
     "output_type": "execute_result"
    }
   ],
   "source": [
    "[0 for x in range(n - len(vec_sec))] + "
   ]
  },
  {
   "cell_type": "code",
   "execution_count": 306,
   "metadata": {},
   "outputs": [
    {
     "data": {
      "text/plain": [
       "10"
      ]
     },
     "execution_count": 306,
     "metadata": {},
     "output_type": "execute_result"
    }
   ],
   "source": [
    "n - len(vec_sec)"
   ]
  },
  {
   "cell_type": "code",
   "execution_count": 313,
   "metadata": {},
   "outputs": [
    {
     "data": {
      "text/plain": [
       "16"
      ]
     },
     "execution_count": 313,
     "metadata": {},
     "output_type": "execute_result"
    }
   ],
   "source": [
    "int(np.sqrt(len(vec_sec)))+1"
   ]
  },
  {
   "cell_type": "code",
   "execution_count": 316,
   "metadata": {},
   "outputs": [],
   "source": [
    "# Vec2IMG\n",
    "def Vec2IMG(Vector):\n",
    "    vec_sec = Vector\n",
    "    INn = int(np.sqrt(len(vec_sec)))+1\n",
    "    sampleID = vec_sec.name\n",
    "    vec_sec = vec_sec.to_list()\n",
    "    vec_sec.reverse()\n",
    "    Dlist = [0 for x in range(n - len(vec_sec))] + vec_sec\n",
    "    n = INn**2\n",
    "    pos = np.array([0,0])\n",
    "    POSlist = list()\n",
    "    POSlist.append(pos)\n",
    "    xx = [int(np.sqrt(n)-1)]\n",
    "    for x in range(int(np.sqrt(n)-1), 0, -1):\n",
    "        xx.append(x)\n",
    "        xx.append(x)\n",
    "    for i in range( ((int(np.sqrt(n)-1))*2) + 1 ):\n",
    "        #print(pos)\n",
    "        #print(i, POSlist)\n",
    "        if i % 4 == 0:\n",
    "            for j in range(xx[i]):\n",
    "                pos = pos + [1,0]\n",
    "                POSlist.append(pos)\n",
    "        if i % 4 == 1:\n",
    "            for j in range(xx[i]):\n",
    "                pos = pos + [0,1]\n",
    "                POSlist.append(pos)\n",
    "        if i % 4 == 2:\n",
    "            for j in range(xx[i]):\n",
    "                pos = pos + [-1,0]\n",
    "                POSlist.append(pos)\n",
    "        if i % 4 == 3:\n",
    "            for j in range(xx[i]):\n",
    "                pos = pos + [0,-1]\n",
    "                POSlist.append(pos)\n",
    "    ARRY = np.zeros([INn,INn])\n",
    "    for i in range(len(Dlist)):\n",
    "        ARRY[POSlist[i].tolist()[0], POSlist[i].tolist()[1]] = Dlist[i]"
   ]
  },
  {
   "cell_type": "code",
   "execution_count": 309,
   "metadata": {},
   "outputs": [
    {
     "data": {
      "text/plain": [
       "<matplotlib.image.AxesImage at 0x7faeaf1bcb90>"
      ]
     },
     "execution_count": 309,
     "metadata": {},
     "output_type": "execute_result"
    },
    {
     "data": {
      "image/png": "[encoded data removed]",
      "text/plain": [
       "<Figure size 432x288 with 1 Axes>"
      ]
     },
     "metadata": {
      "needs_background": "light"
     },
     "output_type": "display_data"
    }
   ],
   "source": [
    "plt.imshow(ARRY)"
   ]
  },
  {
   "cell_type": "code",
   "execution_count": 278,
   "metadata": {},
   "outputs": [
    {
     "data": {
      "text/plain": [
       "279"
      ]
     },
     "execution_count": 278,
     "metadata": {},
     "output_type": "execute_result"
    }
   ],
   "source": [
    "len(Dlist)"
   ]
  },
  {
   "cell_type": "code",
   "execution_count": null,
   "metadata": {},
   "outputs": [],
   "source": []
  },
  {
   "cell_type": "code",
   "execution_count": 273,
   "metadata": {},
   "outputs": [
    {
     "data": {
      "text/plain": [
       "array([[0., 0., 0., 0., 0., 0., 0., 0., 0., 0., 0., 0., 0., 0., 0.],\n",
       "       [0., 0., 0., 0., 0., 0., 0., 0., 0., 0., 0., 0., 0., 0., 0.],\n",
       "       [0., 0., 0., 0., 0., 0., 0., 0., 0., 0., 0., 0., 0., 0., 0.],\n",
       "       [0., 0., 0., 0., 0., 0., 0., 0., 0., 0., 0., 0., 0., 0., 0.],\n",
       "       [0., 0., 0., 0., 0., 0., 0., 0., 0., 0., 0., 0., 0., 0., 0.],\n",
       "       [0., 0., 0., 0., 0., 0., 0., 0., 0., 0., 0., 0., 0., 0., 0.],\n",
       "       [0., 0., 0., 0., 0., 0., 0., 0., 0., 0., 0., 0., 0., 0., 0.],\n",
       "       [0., 0., 0., 0., 0., 0., 0., 0., 0., 0., 0., 0., 0., 0., 0.],\n",
       "       [0., 0., 0., 0., 0., 0., 0., 0., 0., 0., 0., 0., 0., 0., 0.],\n",
       "       [0., 0., 0., 0., 0., 0., 0., 0., 0., 0., 0., 0., 0., 0., 0.],\n",
       "       [0., 0., 0., 0., 0., 0., 0., 0., 0., 0., 0., 0., 0., 0., 0.],\n",
       "       [0., 0., 0., 0., 0., 0., 0., 0., 0., 0., 0., 0., 0., 0., 0.],\n",
       "       [0., 0., 0., 0., 0., 0., 0., 0., 0., 0., 0., 0., 0., 0., 0.],\n",
       "       [0., 0., 0., 0., 0., 0., 0., 0., 0., 0., 0., 0., 0., 0., 0.],\n",
       "       [0., 0., 0., 0., 0., 0., 0., 0., 0., 0., 0., 0., 0., 0., 0.]])"
      ]
     },
     "execution_count": 273,
     "metadata": {},
     "output_type": "execute_result"
    }
   ],
   "source": [
    "ARRY"
   ]
  },
  {
   "cell_type": "code",
   "execution_count": 268,
   "metadata": {},
   "outputs": [],
   "source": [
    "def Vec2IMG(DFx, INn = 20):\n",
    "    dx = DFx.iloc[:,:-1]\n",
    "    for i in range(dx.shape[0]):\n",
    "        vec_sec = dx.iloc[i,:]\n",
    "        sampleID = vec_sec.name\n",
    "        vec_sec = vec_sec.to_list()\n",
    "        vec_sec.reverse()\n",
    "        Dlist = vec_sec\n",
    "        n = INn**2\n",
    "        pos = np.array([0,0])\n",
    "        POSlist = list()\n",
    "        POSlist.append(pos)\n",
    "        xx = [int(np.sqrt(n)-1)]\n",
    "        for x in range(int(np.sqrt(n)-1), 0, -1):\n",
    "            xx.append(x)\n",
    "            xx.append(x)\n",
    "        for i in range( ((int(np.sqrt(n)-1))*2) + 1 ):\n",
    "            #print(pos)\n",
    "            #print(i, POSlist)\n",
    "            if i % 4 == 0:\n",
    "                for j in range(xx[i]):\n",
    "                    pos = pos + [1,0]\n",
    "                    POSlist.append(pos)\n",
    "            if i % 4 == 1:\n",
    "                for j in range(xx[i]):\n",
    "                    pos = pos + [0,1]\n",
    "                    POSlist.append(pos)\n",
    "            if i % 4 == 2:\n",
    "                for j in range(xx[i]):\n",
    "                    pos = pos + [-1,0]\n",
    "                    POSlist.append(pos)\n",
    "            if i % 4 == 3:\n",
    "                for j in range(xx[i]):\n",
    "                    pos = pos + [0,-1]\n",
    "                    POSlist.append(pos)\n",
    "        ARRY = np.zeros([INn,INn])\n",
    "        for i in range(len(Dlist)):\n",
    "            ARRY[POSlist[i].tolist()[0], POSlist[i].tolist()[1]] = Dlist[i]\n",
    "        return(ARRY)\n",
    "        #plt.imsave(outDir + \"/\" + sampleID + \".png\", ARRY)"
   ]
  },
  {
   "cell_type": "code",
   "execution_count": null,
   "metadata": {},
   "outputs": [],
   "source": []
  }
 ],
 "metadata": {
  "kernelspec": {
   "display_name": "Python 3",
   "language": "python",
   "name": "python3"
  },
  "language_info": {
   "codemirror_mode": {
    "name": "ipython",
    "version": 3
   },
   "file_extension": ".py",
   "mimetype": "text/x-python",
   "name": "python",
   "nbconvert_exporter": "python",
   "pygments_lexer": "ipython3",
   "version": "3.7.4"
  }
 },
 "nbformat": 4,
 "nbformat_minor": 4
}
