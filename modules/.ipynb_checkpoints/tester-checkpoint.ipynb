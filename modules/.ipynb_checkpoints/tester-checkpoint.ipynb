{
 "cells": [
  {
   "cell_type": "code",
   "execution_count": 80,
   "metadata": {},
   "outputs": [],
   "source": [
    "import os\n",
    "import sys\n",
    "import pandas as pd\n",
    "import numpy as np\n",
    "from scipy import stats"
   ]
  },
  {
   "cell_type": "code",
   "execution_count": 27,
   "metadata": {},
   "outputs": [],
   "source": [
    "def LoadINPUT(file):\n",
    "    D1 = pd.read_csv(file, index_col=0)\n",
    "    return(D1.iloc[:-1,:], D1.loc['Group',:]) #return : (x, y) y~last column named 'Group'\n",
    "    "
   ]
  },
  {
   "cell_type": "code",
   "execution_count": 30,
   "metadata": {},
   "outputs": [],
   "source": [
    "file = \"../examples/input_example.csv\"\n",
    "#LoadINPUT(\"../examples/input_example.csv\")"
   ]
  },
  {
   "cell_type": "code",
   "execution_count": null,
   "metadata": {},
   "outputs": [],
   "source": [
    "def FeatureSelc(data, label, quantity = 0.5, pval = 0.05):\n",
    "    \n",
    "    return()"
   ]
  },
  {
   "cell_type": "code",
   "execution_count": 89,
   "metadata": {},
   "outputs": [],
   "source": [
    "#data = LoadINPUT(file)[0]; label = LoadINPUT(file)[1]; quantity = 0.5; pval = 0.05\n",
    "TotalFeaNo = data.shape[0]\n",
    "SelcFeaNo = int(TotalFeaNo*quantity)\n",
    "qRank = data.sum(axis=1).sort_values(ascending = False).index #[0:SelcFeaNo].index\n",
    "\n",
    "#data_qf = data.loc[qfiltFes,:]"
   ]
  },
  {
   "cell_type": "code",
   "execution_count": 176,
   "metadata": {},
   "outputs": [],
   "source": [
    "TaxaIDs = []\n",
    "Levens = []\n",
    "Equality = []\n",
    "TPs = []\n",
    "Avg = []\n",
    "\n",
    "for i in range(data.shape[0]):\n",
    "    D_i = data.iloc[i,:]\n",
    "\n",
    "    #shaP = stats.shapiro(D_i)[1]\n",
    "    levP = stats.levene(D_i[label == 0.1], D_i[label == 0.9])[1]\n",
    "    #print(shaP, levP)\n",
    "    equl = (levP > pval)\n",
    "    if(equl): #두 그룹의 분산이 같지 않음 -> equal_var=False\n",
    "        Pval = stats.ttest_ind(D_i[label == 0.1], D_i[label == 0.9], equal_var=True)[1]\n",
    "    else:\n",
    "        Pval = stats.ttest_ind(D_i[label == 0.1], D_i[label == 0.9], equal_var=False)[1]\n",
    "\n",
    "    TaxaIDs.append(D_i.name)\n",
    "    Levens.append(levP)\n",
    "    Equality.append(equl)\n",
    "    TPs.append(Pval)\n",
    "    Avg.append(D_i.mean())\n",
    "\n",
    "TestResDic = {'Taxa_ID':TaxaIDs, 'Leven_Pval':Levens, 'Equal':Equality, 'Ttest_Pval':TPs, 'Average':Avg}\n",
    "TestResDF = pd.DataFrame(TestResDic).sort_values('Average', ascending=False)"
   ]
  },
  {
   "cell_type": "code",
   "execution_count": 171,
   "metadata": {},
   "outputs": [],
   "source": []
  },
  {
   "cell_type": "code",
   "execution_count": null,
   "metadata": {},
   "outputs": [],
   "source": []
  },
  {
   "cell_type": "code",
   "execution_count": null,
   "metadata": {},
   "outputs": [],
   "source": []
  },
  {
   "cell_type": "code",
   "execution_count": null,
   "metadata": {},
   "outputs": [],
   "source": []
  },
  {
   "cell_type": "code",
   "execution_count": 137,
   "metadata": {},
   "outputs": [],
   "source": [
    "TestResDic = {'Taxa_ID':D_i.name, 'Leven_Pval':levP, 'Ttest_Pval':Pval}"
   ]
  },
  {
   "cell_type": "code",
   "execution_count": 142,
   "metadata": {},
   "outputs": [],
   "source": [
    "TestResDic['Taxa_ID']='a'"
   ]
  },
  {
   "cell_type": "code",
   "execution_count": 143,
   "metadata": {},
   "outputs": [
    {
     "data": {
      "text/plain": [
       "{'Taxa_ID': 'a',\n",
       " 'Leven_Pval': 0.5474537048752532,\n",
       " 'Ttest_Pval': 0.5473710358761872}"
      ]
     },
     "execution_count": 143,
     "metadata": {},
     "output_type": "execute_result"
    }
   ],
   "source": [
    "TestResDic"
   ]
  },
  {
   "cell_type": "code",
   "execution_count": 131,
   "metadata": {},
   "outputs": [
    {
     "data": {
      "text/plain": [
       "0.0035475150224175893"
      ]
     },
     "execution_count": 131,
     "metadata": {},
     "output_type": "execute_result"
    }
   ],
   "source": [
    "sum(D_i)"
   ]
  },
  {
   "cell_type": "code",
   "execution_count": 130,
   "metadata": {},
   "outputs": [
    {
     "data": {
      "text/plain": [
       "WilcoxonResult(statistic=0.0, pvalue=2.132390429111368e-55)"
      ]
     },
     "execution_count": 130,
     "metadata": {},
     "output_type": "execute_result"
    }
   ],
   "source": [
    "stats.wilcoxon(D_i, label)"
   ]
  },
  {
   "cell_type": "code",
   "execution_count": null,
   "metadata": {},
   "outputs": [],
   "source": []
  },
  {
   "cell_type": "code",
   "execution_count": 123,
   "metadata": {},
   "outputs": [
    {
     "data": {
      "text/plain": [
       "222"
      ]
     },
     "execution_count": 123,
     "metadata": {},
     "output_type": "execute_result"
    }
   ],
   "source": [
    "len(D_i[label == 0.1])"
   ]
  },
  {
   "cell_type": "code",
   "execution_count": null,
   "metadata": {},
   "outputs": [],
   "source": []
  },
  {
   "cell_type": "code",
   "execution_count": 122,
   "metadata": {},
   "outputs": [
    {
     "data": {
      "text/plain": [
       "96"
      ]
     },
     "execution_count": 122,
     "metadata": {},
     "output_type": "execute_result"
    }
   ],
   "source": [
    "len(D_i[label == 0.9])"
   ]
  },
  {
   "cell_type": "code",
   "execution_count": 77,
   "metadata": {},
   "outputs": [],
   "source": [
    "data_qf"
   ]
  },
  {
   "cell_type": "code",
   "execution_count": null,
   "metadata": {},
   "outputs": [],
   "source": [
    "for i in range(TotalFeaNo)"
   ]
  },
  {
   "cell_type": "code",
   "execution_count": 81,
   "metadata": {},
   "outputs": [],
   "source": [
    "i = 10\n",
    "D_i = data.iloc[i,:]"
   ]
  },
  {
   "cell_type": "code",
   "execution_count": 84,
   "metadata": {},
   "outputs": [
    {
     "data": {
      "text/plain": [
       "'k__Bacteria; p__Acidobacteria; c__Acidobacteriia; o__Solibacterales; f__Solibacteraceae (Subgroup 3); g__Candidatus Solibacter;'"
      ]
     },
     "execution_count": 84,
     "metadata": {},
     "output_type": "execute_result"
    }
   ],
   "source": [
    "D_i.name"
   ]
  },
  {
   "cell_type": "code",
   "execution_count": null,
   "metadata": {},
   "outputs": [],
   "source": [
    "stats.shapiro(D_i)"
   ]
  },
  {
   "cell_type": "code",
   "execution_count": 87,
   "metadata": {},
   "outputs": [],
   "source": [
    "shapiro_p = stats.shapiro(D_i)[1]"
   ]
  },
  {
   "cell_type": "code",
   "execution_count": null,
   "metadata": {},
   "outputs": [],
   "source": [
    "stats.ttes"
   ]
  },
  {
   "cell_type": "code",
   "execution_count": 85,
   "metadata": {},
   "outputs": [
    {
     "data": {
      "text/plain": [
       "0.0035475150224175893"
      ]
     },
     "execution_count": 85,
     "metadata": {},
     "output_type": "execute_result"
    }
   ],
   "source": [
    "sum(D_i)"
   ]
  },
  {
   "cell_type": "code",
   "execution_count": null,
   "metadata": {},
   "outputs": [],
   "source": []
  },
  {
   "cell_type": "code",
   "execution_count": 88,
   "metadata": {},
   "outputs": [
    {
     "data": {
      "text/plain": [
       "<function scipy.stats.morestats.levene(*args, **kwds)>"
      ]
     },
     "execution_count": 88,
     "metadata": {},
     "output_type": "execute_result"
    }
   ],
   "source": [
    "stats.levene()"
   ]
  },
  {
   "cell_type": "code",
   "execution_count": 112,
   "metadata": {},
   "outputs": [
    {
     "data": {
      "text/plain": [
       "ST0449S     True\n",
       "ST0450S     True\n",
       "ST0496S     True\n",
       "ST0510S     True\n",
       "ST0515S     True\n",
       "           ...  \n",
       "ST4187S    False\n",
       "ST4188S    False\n",
       "ST4189S    False\n",
       "ST4194S    False\n",
       "ST4196S    False\n",
       "Name: Group, Length: 318, dtype: bool"
      ]
     },
     "execution_count": 112,
     "metadata": {},
     "output_type": "execute_result"
    }
   ],
   "source": [
    "(label == 0.1)"
   ]
  },
  {
   "cell_type": "code",
   "execution_count": 117,
   "metadata": {},
   "outputs": [
    {
     "data": {
      "text/html": [
       "<div>\n",
       "<style scoped>\n",
       "    .dataframe tbody tr th:only-of-type {\n",
       "        vertical-align: middle;\n",
       "    }\n",
       "\n",
       "    .dataframe tbody tr th {\n",
       "        vertical-align: top;\n",
       "    }\n",
       "\n",
       "    .dataframe thead th {\n",
       "        text-align: right;\n",
       "    }\n",
       "</style>\n",
       "<table border=\"1\" class=\"dataframe\">\n",
       "  <thead>\n",
       "    <tr style=\"text-align: right;\">\n",
       "      <th></th>\n",
       "      <th>ST0036S</th>\n",
       "      <th>ST1705S</th>\n",
       "      <th>ST1830S</th>\n",
       "      <th>ST1832S</th>\n",
       "      <th>ST1833S</th>\n",
       "      <th>ST2263S</th>\n",
       "      <th>ST2265S</th>\n",
       "      <th>ST2266S</th>\n",
       "      <th>ST2267S</th>\n",
       "      <th>ST2269S</th>\n",
       "      <th>...</th>\n",
       "      <th>ST4091S</th>\n",
       "      <th>ST4100S</th>\n",
       "      <th>ST4106S</th>\n",
       "      <th>ST4111S</th>\n",
       "      <th>ST4141S</th>\n",
       "      <th>ST4187S</th>\n",
       "      <th>ST4188S</th>\n",
       "      <th>ST4189S</th>\n",
       "      <th>ST4194S</th>\n",
       "      <th>ST4196S</th>\n",
       "    </tr>\n",
       "  </thead>\n",
       "  <tbody>\n",
       "    <tr>\n",
       "      <td>k__Archaea; p__Euryarchaeota; c__Halobacteria; o__Halobacteriales; f__Haloferacaceae; g__Halolamina;</td>\n",
       "      <td>0.000000</td>\n",
       "      <td>8.409664e-08</td>\n",
       "      <td>7.814188e-08</td>\n",
       "      <td>0.000000</td>\n",
       "      <td>0.000000</td>\n",
       "      <td>6.001753e-08</td>\n",
       "      <td>0.000000</td>\n",
       "      <td>1.886188e-08</td>\n",
       "      <td>9.912689e-08</td>\n",
       "      <td>7.309680e-08</td>\n",
       "      <td>...</td>\n",
       "      <td>9.917730e-08</td>\n",
       "      <td>0.000000</td>\n",
       "      <td>0.000000</td>\n",
       "      <td>5.917337e-08</td>\n",
       "      <td>1.179771e-07</td>\n",
       "      <td>3.782594e-07</td>\n",
       "      <td>0.000000</td>\n",
       "      <td>0.000000</td>\n",
       "      <td>6.496355e-08</td>\n",
       "      <td>1.532197e-07</td>\n",
       "    </tr>\n",
       "    <tr>\n",
       "      <td>k__Archaea; p__Euryarchaeota; c__Methanobacteria; o__Methanobacteriales; f__Methanobacteriaceae; g__Methanobacterium;</td>\n",
       "      <td>0.000000</td>\n",
       "      <td>8.494525e-05</td>\n",
       "      <td>7.893040e-05</td>\n",
       "      <td>0.000000</td>\n",
       "      <td>0.000000</td>\n",
       "      <td>6.062316e-05</td>\n",
       "      <td>0.000000</td>\n",
       "      <td>1.905221e-05</td>\n",
       "      <td>1.001272e-04</td>\n",
       "      <td>7.383441e-05</td>\n",
       "      <td>...</td>\n",
       "      <td>1.001781e-04</td>\n",
       "      <td>0.000000</td>\n",
       "      <td>0.000000</td>\n",
       "      <td>5.977048e-05</td>\n",
       "      <td>8.176188e-05</td>\n",
       "      <td>3.820764e-04</td>\n",
       "      <td>0.000000</td>\n",
       "      <td>0.000000</td>\n",
       "      <td>6.561909e-05</td>\n",
       "      <td>1.547659e-04</td>\n",
       "    </tr>\n",
       "    <tr>\n",
       "      <td>k__Archaea; p__Euryarchaeota; c__Methanobacteria; o__Methanobacteriales; f__Methanobacteriaceae; g__Methanobrevibacter;</td>\n",
       "      <td>0.000000</td>\n",
       "      <td>7.730094e-03</td>\n",
       "      <td>7.182738e-03</td>\n",
       "      <td>0.000000</td>\n",
       "      <td>0.000000</td>\n",
       "      <td>5.516762e-03</td>\n",
       "      <td>0.000000</td>\n",
       "      <td>1.733768e-03</td>\n",
       "      <td>9.111663e-03</td>\n",
       "      <td>6.718998e-03</td>\n",
       "      <td>...</td>\n",
       "      <td>9.116296e-03</td>\n",
       "      <td>0.000000</td>\n",
       "      <td>0.000000</td>\n",
       "      <td>5.439167e-03</td>\n",
       "      <td>7.437069e-03</td>\n",
       "      <td>2.688799e-02</td>\n",
       "      <td>0.000000</td>\n",
       "      <td>0.000000</td>\n",
       "      <td>5.971396e-03</td>\n",
       "      <td>1.408383e-02</td>\n",
       "    </tr>\n",
       "    <tr>\n",
       "      <td>k__Archaea; p__Euryarchaeota; c__Methanobacteria; o__Methanobacteriales; f__Methanobacteriaceae; g__Methanosphaera;</td>\n",
       "      <td>0.000000</td>\n",
       "      <td>8.494525e-05</td>\n",
       "      <td>7.893040e-05</td>\n",
       "      <td>0.000000</td>\n",
       "      <td>0.000000</td>\n",
       "      <td>6.062316e-05</td>\n",
       "      <td>0.000000</td>\n",
       "      <td>1.905221e-05</td>\n",
       "      <td>1.001272e-04</td>\n",
       "      <td>7.383441e-05</td>\n",
       "      <td>...</td>\n",
       "      <td>1.001781e-04</td>\n",
       "      <td>0.000000</td>\n",
       "      <td>0.000000</td>\n",
       "      <td>5.977048e-05</td>\n",
       "      <td>8.176188e-05</td>\n",
       "      <td>8.263385e-03</td>\n",
       "      <td>0.000000</td>\n",
       "      <td>0.000000</td>\n",
       "      <td>6.561909e-05</td>\n",
       "      <td>1.547659e-04</td>\n",
       "    </tr>\n",
       "    <tr>\n",
       "      <td>k__Archaea; p__Euryarchaeota; c__Thermoplasmata; o__Methanomassiliicoccales; f__Methanomethylophilaceae; g__Candidatus Methanomethylophilus;</td>\n",
       "      <td>0.000000</td>\n",
       "      <td>8.409664e-08</td>\n",
       "      <td>7.814188e-08</td>\n",
       "      <td>0.000000</td>\n",
       "      <td>0.000000</td>\n",
       "      <td>6.001753e-08</td>\n",
       "      <td>0.000000</td>\n",
       "      <td>1.886188e-08</td>\n",
       "      <td>9.912689e-08</td>\n",
       "      <td>7.309680e-08</td>\n",
       "      <td>...</td>\n",
       "      <td>9.917730e-08</td>\n",
       "      <td>0.000000</td>\n",
       "      <td>0.000000</td>\n",
       "      <td>5.917337e-08</td>\n",
       "      <td>3.752370e-05</td>\n",
       "      <td>3.782594e-07</td>\n",
       "      <td>0.000000</td>\n",
       "      <td>0.000000</td>\n",
       "      <td>6.496355e-08</td>\n",
       "      <td>1.532197e-07</td>\n",
       "    </tr>\n",
       "    <tr>\n",
       "      <td>...</td>\n",
       "      <td>...</td>\n",
       "      <td>...</td>\n",
       "      <td>...</td>\n",
       "      <td>...</td>\n",
       "      <td>...</td>\n",
       "      <td>...</td>\n",
       "      <td>...</td>\n",
       "      <td>...</td>\n",
       "      <td>...</td>\n",
       "      <td>...</td>\n",
       "      <td>...</td>\n",
       "      <td>...</td>\n",
       "      <td>...</td>\n",
       "      <td>...</td>\n",
       "      <td>...</td>\n",
       "      <td>...</td>\n",
       "      <td>...</td>\n",
       "      <td>...</td>\n",
       "      <td>...</td>\n",
       "      <td>...</td>\n",
       "      <td>...</td>\n",
       "    </tr>\n",
       "    <tr>\n",
       "      <td>k__Bacteria; p__Verrucomicrobia; c__Verrucomicrobiae; o__Verrucomicrobiales; f__Verrucomicrobiaceae; g__Roseimicrobium;</td>\n",
       "      <td>0.000006</td>\n",
       "      <td>1.476545e-05</td>\n",
       "      <td>9.521003e-06</td>\n",
       "      <td>0.000009</td>\n",
       "      <td>0.000001</td>\n",
       "      <td>9.741308e-06</td>\n",
       "      <td>0.000010</td>\n",
       "      <td>1.266436e-05</td>\n",
       "      <td>1.221723e-05</td>\n",
       "      <td>9.325093e-06</td>\n",
       "      <td>...</td>\n",
       "      <td>1.679689e-05</td>\n",
       "      <td>0.000003</td>\n",
       "      <td>0.000001</td>\n",
       "      <td>1.095058e-05</td>\n",
       "      <td>2.017469e-05</td>\n",
       "      <td>3.133275e-05</td>\n",
       "      <td>0.000001</td>\n",
       "      <td>0.000017</td>\n",
       "      <td>1.560221e-05</td>\n",
       "      <td>1.102910e-05</td>\n",
       "    </tr>\n",
       "    <tr>\n",
       "      <td>k__Bacteria; p__Verrucomicrobia; c__Verrucomicrobiae; o__Verrucomicrobiales; f__Verrucomicrobiaceae; g__unidentified</td>\n",
       "      <td>0.000006</td>\n",
       "      <td>1.476545e-05</td>\n",
       "      <td>9.521003e-06</td>\n",
       "      <td>0.000009</td>\n",
       "      <td>0.000001</td>\n",
       "      <td>9.741308e-06</td>\n",
       "      <td>0.000010</td>\n",
       "      <td>1.266436e-05</td>\n",
       "      <td>1.221723e-05</td>\n",
       "      <td>9.325093e-06</td>\n",
       "      <td>...</td>\n",
       "      <td>1.679689e-05</td>\n",
       "      <td>0.000003</td>\n",
       "      <td>0.000001</td>\n",
       "      <td>1.095058e-05</td>\n",
       "      <td>2.017469e-05</td>\n",
       "      <td>3.133275e-05</td>\n",
       "      <td>0.000001</td>\n",
       "      <td>0.000017</td>\n",
       "      <td>1.560221e-05</td>\n",
       "      <td>1.102910e-05</td>\n",
       "    </tr>\n",
       "    <tr>\n",
       "      <td>k__Bacteria; p__WPS-2; c__metagenome; o__metagenome; f__metagenome; g__metagenome;</td>\n",
       "      <td>0.000001</td>\n",
       "      <td>9.923549e-07</td>\n",
       "      <td>9.928962e-07</td>\n",
       "      <td>0.000001</td>\n",
       "      <td>0.000001</td>\n",
       "      <td>9.945439e-07</td>\n",
       "      <td>0.000001</td>\n",
       "      <td>9.982853e-07</td>\n",
       "      <td>9.909885e-07</td>\n",
       "      <td>4.176435e-05</td>\n",
       "      <td>...</td>\n",
       "      <td>9.909839e-07</td>\n",
       "      <td>0.000001</td>\n",
       "      <td>0.000001</td>\n",
       "      <td>9.946206e-07</td>\n",
       "      <td>9.892748e-07</td>\n",
       "      <td>9.656128e-07</td>\n",
       "      <td>0.000001</td>\n",
       "      <td>0.000001</td>\n",
       "      <td>9.940942e-07</td>\n",
       "      <td>9.860709e-07</td>\n",
       "    </tr>\n",
       "    <tr>\n",
       "      <td>k__Bacteria; p__WPS-2; c__uncultured bacterium; o__uncultured bacterium; f__uncultured bacterium; g__unidentified</td>\n",
       "      <td>0.000001</td>\n",
       "      <td>5.811857e-05</td>\n",
       "      <td>1.134203e-04</td>\n",
       "      <td>0.000022</td>\n",
       "      <td>0.000001</td>\n",
       "      <td>5.555593e-05</td>\n",
       "      <td>0.000001</td>\n",
       "      <td>1.814545e-05</td>\n",
       "      <td>5.744479e-05</td>\n",
       "      <td>4.040851e-03</td>\n",
       "      <td>...</td>\n",
       "      <td>9.909839e-07</td>\n",
       "      <td>0.000091</td>\n",
       "      <td>0.000048</td>\n",
       "      <td>3.857269e-05</td>\n",
       "      <td>7.721133e-05</td>\n",
       "      <td>9.656128e-07</td>\n",
       "      <td>0.000001</td>\n",
       "      <td>0.000030</td>\n",
       "      <td>6.724000e-05</td>\n",
       "      <td>2.231980e-04</td>\n",
       "    </tr>\n",
       "    <tr>\n",
       "      <td>k__Bacteria; p__WS2; c__uncultured bacterium; o__uncultured bacterium; f__uncultured bacterium; g__unidentified</td>\n",
       "      <td>0.000001</td>\n",
       "      <td>5.811857e-05</td>\n",
       "      <td>1.134203e-04</td>\n",
       "      <td>0.000022</td>\n",
       "      <td>0.000001</td>\n",
       "      <td>5.555593e-05</td>\n",
       "      <td>0.000001</td>\n",
       "      <td>1.814545e-05</td>\n",
       "      <td>5.744479e-05</td>\n",
       "      <td>1.295219e-04</td>\n",
       "      <td>...</td>\n",
       "      <td>9.909839e-07</td>\n",
       "      <td>0.000091</td>\n",
       "      <td>0.000048</td>\n",
       "      <td>3.857269e-05</td>\n",
       "      <td>7.721133e-05</td>\n",
       "      <td>9.656128e-07</td>\n",
       "      <td>0.000001</td>\n",
       "      <td>0.000030</td>\n",
       "      <td>6.724000e-05</td>\n",
       "      <td>2.231980e-04</td>\n",
       "    </tr>\n",
       "  </tbody>\n",
       "</table>\n",
       "<p>1462 rows × 96 columns</p>\n",
       "</div>"
      ],
      "text/plain": [
       "                                                     ST0036S       ST1705S  \\\n",
       "k__Archaea; p__Euryarchaeota; c__Halobacteria; ...  0.000000  8.409664e-08   \n",
       "k__Archaea; p__Euryarchaeota; c__Methanobacteri...  0.000000  8.494525e-05   \n",
       "k__Archaea; p__Euryarchaeota; c__Methanobacteri...  0.000000  7.730094e-03   \n",
       "k__Archaea; p__Euryarchaeota; c__Methanobacteri...  0.000000  8.494525e-05   \n",
       "k__Archaea; p__Euryarchaeota; c__Thermoplasmata...  0.000000  8.409664e-08   \n",
       "...                                                      ...           ...   \n",
       "k__Bacteria; p__Verrucomicrobia; c__Verrucomicr...  0.000006  1.476545e-05   \n",
       "k__Bacteria; p__Verrucomicrobia; c__Verrucomicr...  0.000006  1.476545e-05   \n",
       "k__Bacteria; p__WPS-2; c__metagenome; o__metage...  0.000001  9.923549e-07   \n",
       "k__Bacteria; p__WPS-2; c__uncultured bacterium;...  0.000001  5.811857e-05   \n",
       "k__Bacteria; p__WS2; c__uncultured bacterium; o...  0.000001  5.811857e-05   \n",
       "\n",
       "                                                         ST1830S   ST1832S  \\\n",
       "k__Archaea; p__Euryarchaeota; c__Halobacteria; ...  7.814188e-08  0.000000   \n",
       "k__Archaea; p__Euryarchaeota; c__Methanobacteri...  7.893040e-05  0.000000   \n",
       "k__Archaea; p__Euryarchaeota; c__Methanobacteri...  7.182738e-03  0.000000   \n",
       "k__Archaea; p__Euryarchaeota; c__Methanobacteri...  7.893040e-05  0.000000   \n",
       "k__Archaea; p__Euryarchaeota; c__Thermoplasmata...  7.814188e-08  0.000000   \n",
       "...                                                          ...       ...   \n",
       "k__Bacteria; p__Verrucomicrobia; c__Verrucomicr...  9.521003e-06  0.000009   \n",
       "k__Bacteria; p__Verrucomicrobia; c__Verrucomicr...  9.521003e-06  0.000009   \n",
       "k__Bacteria; p__WPS-2; c__metagenome; o__metage...  9.928962e-07  0.000001   \n",
       "k__Bacteria; p__WPS-2; c__uncultured bacterium;...  1.134203e-04  0.000022   \n",
       "k__Bacteria; p__WS2; c__uncultured bacterium; o...  1.134203e-04  0.000022   \n",
       "\n",
       "                                                     ST1833S       ST2263S  \\\n",
       "k__Archaea; p__Euryarchaeota; c__Halobacteria; ...  0.000000  6.001753e-08   \n",
       "k__Archaea; p__Euryarchaeota; c__Methanobacteri...  0.000000  6.062316e-05   \n",
       "k__Archaea; p__Euryarchaeota; c__Methanobacteri...  0.000000  5.516762e-03   \n",
       "k__Archaea; p__Euryarchaeota; c__Methanobacteri...  0.000000  6.062316e-05   \n",
       "k__Archaea; p__Euryarchaeota; c__Thermoplasmata...  0.000000  6.001753e-08   \n",
       "...                                                      ...           ...   \n",
       "k__Bacteria; p__Verrucomicrobia; c__Verrucomicr...  0.000001  9.741308e-06   \n",
       "k__Bacteria; p__Verrucomicrobia; c__Verrucomicr...  0.000001  9.741308e-06   \n",
       "k__Bacteria; p__WPS-2; c__metagenome; o__metage...  0.000001  9.945439e-07   \n",
       "k__Bacteria; p__WPS-2; c__uncultured bacterium;...  0.000001  5.555593e-05   \n",
       "k__Bacteria; p__WS2; c__uncultured bacterium; o...  0.000001  5.555593e-05   \n",
       "\n",
       "                                                     ST2265S       ST2266S  \\\n",
       "k__Archaea; p__Euryarchaeota; c__Halobacteria; ...  0.000000  1.886188e-08   \n",
       "k__Archaea; p__Euryarchaeota; c__Methanobacteri...  0.000000  1.905221e-05   \n",
       "k__Archaea; p__Euryarchaeota; c__Methanobacteri...  0.000000  1.733768e-03   \n",
       "k__Archaea; p__Euryarchaeota; c__Methanobacteri...  0.000000  1.905221e-05   \n",
       "k__Archaea; p__Euryarchaeota; c__Thermoplasmata...  0.000000  1.886188e-08   \n",
       "...                                                      ...           ...   \n",
       "k__Bacteria; p__Verrucomicrobia; c__Verrucomicr...  0.000010  1.266436e-05   \n",
       "k__Bacteria; p__Verrucomicrobia; c__Verrucomicr...  0.000010  1.266436e-05   \n",
       "k__Bacteria; p__WPS-2; c__metagenome; o__metage...  0.000001  9.982853e-07   \n",
       "k__Bacteria; p__WPS-2; c__uncultured bacterium;...  0.000001  1.814545e-05   \n",
       "k__Bacteria; p__WS2; c__uncultured bacterium; o...  0.000001  1.814545e-05   \n",
       "\n",
       "                                                         ST2267S  \\\n",
       "k__Archaea; p__Euryarchaeota; c__Halobacteria; ...  9.912689e-08   \n",
       "k__Archaea; p__Euryarchaeota; c__Methanobacteri...  1.001272e-04   \n",
       "k__Archaea; p__Euryarchaeota; c__Methanobacteri...  9.111663e-03   \n",
       "k__Archaea; p__Euryarchaeota; c__Methanobacteri...  1.001272e-04   \n",
       "k__Archaea; p__Euryarchaeota; c__Thermoplasmata...  9.912689e-08   \n",
       "...                                                          ...   \n",
       "k__Bacteria; p__Verrucomicrobia; c__Verrucomicr...  1.221723e-05   \n",
       "k__Bacteria; p__Verrucomicrobia; c__Verrucomicr...  1.221723e-05   \n",
       "k__Bacteria; p__WPS-2; c__metagenome; o__metage...  9.909885e-07   \n",
       "k__Bacteria; p__WPS-2; c__uncultured bacterium;...  5.744479e-05   \n",
       "k__Bacteria; p__WS2; c__uncultured bacterium; o...  5.744479e-05   \n",
       "\n",
       "                                                         ST2269S  ...  \\\n",
       "k__Archaea; p__Euryarchaeota; c__Halobacteria; ...  7.309680e-08  ...   \n",
       "k__Archaea; p__Euryarchaeota; c__Methanobacteri...  7.383441e-05  ...   \n",
       "k__Archaea; p__Euryarchaeota; c__Methanobacteri...  6.718998e-03  ...   \n",
       "k__Archaea; p__Euryarchaeota; c__Methanobacteri...  7.383441e-05  ...   \n",
       "k__Archaea; p__Euryarchaeota; c__Thermoplasmata...  7.309680e-08  ...   \n",
       "...                                                          ...  ...   \n",
       "k__Bacteria; p__Verrucomicrobia; c__Verrucomicr...  9.325093e-06  ...   \n",
       "k__Bacteria; p__Verrucomicrobia; c__Verrucomicr...  9.325093e-06  ...   \n",
       "k__Bacteria; p__WPS-2; c__metagenome; o__metage...  4.176435e-05  ...   \n",
       "k__Bacteria; p__WPS-2; c__uncultured bacterium;...  4.040851e-03  ...   \n",
       "k__Bacteria; p__WS2; c__uncultured bacterium; o...  1.295219e-04  ...   \n",
       "\n",
       "                                                         ST4091S   ST4100S  \\\n",
       "k__Archaea; p__Euryarchaeota; c__Halobacteria; ...  9.917730e-08  0.000000   \n",
       "k__Archaea; p__Euryarchaeota; c__Methanobacteri...  1.001781e-04  0.000000   \n",
       "k__Archaea; p__Euryarchaeota; c__Methanobacteri...  9.116296e-03  0.000000   \n",
       "k__Archaea; p__Euryarchaeota; c__Methanobacteri...  1.001781e-04  0.000000   \n",
       "k__Archaea; p__Euryarchaeota; c__Thermoplasmata...  9.917730e-08  0.000000   \n",
       "...                                                          ...       ...   \n",
       "k__Bacteria; p__Verrucomicrobia; c__Verrucomicr...  1.679689e-05  0.000003   \n",
       "k__Bacteria; p__Verrucomicrobia; c__Verrucomicr...  1.679689e-05  0.000003   \n",
       "k__Bacteria; p__WPS-2; c__metagenome; o__metage...  9.909839e-07  0.000001   \n",
       "k__Bacteria; p__WPS-2; c__uncultured bacterium;...  9.909839e-07  0.000091   \n",
       "k__Bacteria; p__WS2; c__uncultured bacterium; o...  9.909839e-07  0.000091   \n",
       "\n",
       "                                                     ST4106S       ST4111S  \\\n",
       "k__Archaea; p__Euryarchaeota; c__Halobacteria; ...  0.000000  5.917337e-08   \n",
       "k__Archaea; p__Euryarchaeota; c__Methanobacteri...  0.000000  5.977048e-05   \n",
       "k__Archaea; p__Euryarchaeota; c__Methanobacteri...  0.000000  5.439167e-03   \n",
       "k__Archaea; p__Euryarchaeota; c__Methanobacteri...  0.000000  5.977048e-05   \n",
       "k__Archaea; p__Euryarchaeota; c__Thermoplasmata...  0.000000  5.917337e-08   \n",
       "...                                                      ...           ...   \n",
       "k__Bacteria; p__Verrucomicrobia; c__Verrucomicr...  0.000001  1.095058e-05   \n",
       "k__Bacteria; p__Verrucomicrobia; c__Verrucomicr...  0.000001  1.095058e-05   \n",
       "k__Bacteria; p__WPS-2; c__metagenome; o__metage...  0.000001  9.946206e-07   \n",
       "k__Bacteria; p__WPS-2; c__uncultured bacterium;...  0.000048  3.857269e-05   \n",
       "k__Bacteria; p__WS2; c__uncultured bacterium; o...  0.000048  3.857269e-05   \n",
       "\n",
       "                                                         ST4141S  \\\n",
       "k__Archaea; p__Euryarchaeota; c__Halobacteria; ...  1.179771e-07   \n",
       "k__Archaea; p__Euryarchaeota; c__Methanobacteri...  8.176188e-05   \n",
       "k__Archaea; p__Euryarchaeota; c__Methanobacteri...  7.437069e-03   \n",
       "k__Archaea; p__Euryarchaeota; c__Methanobacteri...  8.176188e-05   \n",
       "k__Archaea; p__Euryarchaeota; c__Thermoplasmata...  3.752370e-05   \n",
       "...                                                          ...   \n",
       "k__Bacteria; p__Verrucomicrobia; c__Verrucomicr...  2.017469e-05   \n",
       "k__Bacteria; p__Verrucomicrobia; c__Verrucomicr...  2.017469e-05   \n",
       "k__Bacteria; p__WPS-2; c__metagenome; o__metage...  9.892748e-07   \n",
       "k__Bacteria; p__WPS-2; c__uncultured bacterium;...  7.721133e-05   \n",
       "k__Bacteria; p__WS2; c__uncultured bacterium; o...  7.721133e-05   \n",
       "\n",
       "                                                         ST4187S   ST4188S  \\\n",
       "k__Archaea; p__Euryarchaeota; c__Halobacteria; ...  3.782594e-07  0.000000   \n",
       "k__Archaea; p__Euryarchaeota; c__Methanobacteri...  3.820764e-04  0.000000   \n",
       "k__Archaea; p__Euryarchaeota; c__Methanobacteri...  2.688799e-02  0.000000   \n",
       "k__Archaea; p__Euryarchaeota; c__Methanobacteri...  8.263385e-03  0.000000   \n",
       "k__Archaea; p__Euryarchaeota; c__Thermoplasmata...  3.782594e-07  0.000000   \n",
       "...                                                          ...       ...   \n",
       "k__Bacteria; p__Verrucomicrobia; c__Verrucomicr...  3.133275e-05  0.000001   \n",
       "k__Bacteria; p__Verrucomicrobia; c__Verrucomicr...  3.133275e-05  0.000001   \n",
       "k__Bacteria; p__WPS-2; c__metagenome; o__metage...  9.656128e-07  0.000001   \n",
       "k__Bacteria; p__WPS-2; c__uncultured bacterium;...  9.656128e-07  0.000001   \n",
       "k__Bacteria; p__WS2; c__uncultured bacterium; o...  9.656128e-07  0.000001   \n",
       "\n",
       "                                                     ST4189S       ST4194S  \\\n",
       "k__Archaea; p__Euryarchaeota; c__Halobacteria; ...  0.000000  6.496355e-08   \n",
       "k__Archaea; p__Euryarchaeota; c__Methanobacteri...  0.000000  6.561909e-05   \n",
       "k__Archaea; p__Euryarchaeota; c__Methanobacteri...  0.000000  5.971396e-03   \n",
       "k__Archaea; p__Euryarchaeota; c__Methanobacteri...  0.000000  6.561909e-05   \n",
       "k__Archaea; p__Euryarchaeota; c__Thermoplasmata...  0.000000  6.496355e-08   \n",
       "...                                                      ...           ...   \n",
       "k__Bacteria; p__Verrucomicrobia; c__Verrucomicr...  0.000017  1.560221e-05   \n",
       "k__Bacteria; p__Verrucomicrobia; c__Verrucomicr...  0.000017  1.560221e-05   \n",
       "k__Bacteria; p__WPS-2; c__metagenome; o__metage...  0.000001  9.940942e-07   \n",
       "k__Bacteria; p__WPS-2; c__uncultured bacterium;...  0.000030  6.724000e-05   \n",
       "k__Bacteria; p__WS2; c__uncultured bacterium; o...  0.000030  6.724000e-05   \n",
       "\n",
       "                                                         ST4196S  \n",
       "k__Archaea; p__Euryarchaeota; c__Halobacteria; ...  1.532197e-07  \n",
       "k__Archaea; p__Euryarchaeota; c__Methanobacteri...  1.547659e-04  \n",
       "k__Archaea; p__Euryarchaeota; c__Methanobacteri...  1.408383e-02  \n",
       "k__Archaea; p__Euryarchaeota; c__Methanobacteri...  1.547659e-04  \n",
       "k__Archaea; p__Euryarchaeota; c__Thermoplasmata...  1.532197e-07  \n",
       "...                                                          ...  \n",
       "k__Bacteria; p__Verrucomicrobia; c__Verrucomicr...  1.102910e-05  \n",
       "k__Bacteria; p__Verrucomicrobia; c__Verrucomicr...  1.102910e-05  \n",
       "k__Bacteria; p__WPS-2; c__metagenome; o__metage...  9.860709e-07  \n",
       "k__Bacteria; p__WPS-2; c__uncultured bacterium;...  2.231980e-04  \n",
       "k__Bacteria; p__WS2; c__uncultured bacterium; o...  2.231980e-04  \n",
       "\n",
       "[1462 rows x 96 columns]"
      ]
     },
     "execution_count": 117,
     "metadata": {},
     "output_type": "execute_result"
    }
   ],
   "source": [
    "data.loc[:,label == 0.9]"
   ]
  }
 ],
 "metadata": {
  "kernelspec": {
   "display_name": "Python 3",
   "language": "python",
   "name": "python3"
  },
  "language_info": {
   "codemirror_mode": {
    "name": "ipython",
    "version": 3
   },
   "file_extension": ".py",
   "mimetype": "text/x-python",
   "name": "python",
   "nbconvert_exporter": "python",
   "pygments_lexer": "ipython3",
   "version": "3.7.4"
  }
 },
 "nbformat": 4,
 "nbformat_minor": 4
}
