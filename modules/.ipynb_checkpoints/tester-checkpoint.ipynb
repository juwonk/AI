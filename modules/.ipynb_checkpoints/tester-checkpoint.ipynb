{
 "cells": [
  {
   "cell_type": "code",
   "execution_count": 401,
   "metadata": {},
   "outputs": [],
   "source": [
    "import os\n",
    "import sys\n",
    "import pandas as pd\n",
    "import numpy as np\n",
    "from scipy import stats\n",
    "import matplotlib.pyplot as plt\n",
    "import copy as cp\n",
    "import re\n",
    "from collections import Counter"
   ]
  },
  {
   "cell_type": "code",
   "execution_count": 683,
   "metadata": {},
   "outputs": [],
   "source": [
    "mc2_file = \"/mnt/MD0_15T/jwkang/BigSize_Profilling/Stool_ColonDisease_200921/Profile/output_closed/otu_table_mc2_w.txt\"\n",
    "mc2_file = \"/mnt/MD0_15T/jwkang/BigSize_Profilling/Stool_ColonDisease_200921/Profile/output_closed/otu_table_mc2_w.txt\""
   ]
  },
  {
   "cell_type": "code",
   "execution_count": null,
   "metadata": {},
   "outputs": [],
   "source": [
    "def LoadINPUT(file): ## input file which is setup at R\n",
    "    D1 = pd.read_csv(file, index_col=0)\n",
    "    return(D1.iloc[:-1,:], D1.loc['Group',:]) #return : (x, y) y~last column named 'Group' & [0.1/0.9]"
   ]
  },
  {
   "cell_type": "code",
   "execution_count": 684,
   "metadata": {},
   "outputs": [],
   "source": [
    "def OTU2DF_log2(mc2, Smp_filter_otu = 1000, RelativeAbundance = True): ## input from qiime1 profiling\n",
    "    DT1 = pd.read_csv(mc2, sep=\"\\t\", skiprows=1, index_col=0)\n",
    "    \n",
    "    ## OTU 1000 filter\n",
    "    \n",
    "    ## D_0__ 제거\n",
    "    ## Mitochondria/Chloroplast 제거\n",
    "    idx_filt = [(re.search(\"D_0__\", x) == None) and \\\n",
    "                (re.search(\"Mitochondria\", x) == None) and \\\n",
    "                (re.search(\"Chloroplast\", x) == None) for x in DT1.taxonomy]\n",
    "    DT1 = DT1[idx_filt]\n",
    "    ## g__unculture/unidentified ~~ -> unidentified 통일\n",
    "    DT1.taxonomy = [re.sub(\"; g__.*\", \"; g__unidentified; s__unidentified\", tx) if re.search('g_un', tx) != None else tx for tx in DT1.taxonomy]\n",
    "    \n",
    "    DicX = {}\n",
    "    for tx in range(len(DT1['taxonomy'])):\n",
    "        txSplt = DT1['taxonomy'][tx].split(\"; s__\")\n",
    "        if len(txSplt) == 2:\n",
    "            taxID = txSplt[0]\n",
    "            try:\n",
    "                DicX[taxID] = DicX[taxID] + DT1.iloc[tx,:-1]\n",
    "            except :\n",
    "                DicX[taxID] = DT1.iloc[tx,:-1]\n",
    "\n",
    "    Xdf = pd.DataFrame.from_dict(DicX)\n",
    "    DataIN = (Xdf[Xdf.sum(axis=1) >= Smp_filter_otu]+1).applymap(np.log2).T\n",
    "    DataOUT = Xdf[Xdf.sum(axis=1) < Smp_filter_otu].T\n",
    "    \n",
    "    if RelativeAbundance is True:\n",
    "        DataIN = DataIN/DataIN.sum()\n",
    "    \n",
    "    return(DataIN, DataOUT)"
   ]
  },
  {
   "cell_type": "code",
   "execution_count": 685,
   "metadata": {},
   "outputs": [],
   "source": [
    "Otu1, Out = otu2log2TAXA(mc2)"
   ]
  },
  {
   "cell_type": "code",
   "execution_count": null,
   "metadata": {},
   "outputs": [],
   "source": []
  },
  {
   "cell_type": "code",
   "execution_count": 682,
   "metadata": {},
   "outputs": [],
   "source": [
    "def FeatureStats(data, label, leven_Cutoff = 0.05):    \n",
    "    TaxaIDs = []\n",
    "    Levens = []\n",
    "    Equality = []\n",
    "    TPs = []\n",
    "    Avg = []; SD = []\n",
    "    Med = []; Max = []; Min = []\n",
    "\n",
    "    for i in range(data.shape[0]):\n",
    "        D_i = data.iloc[i,:]\n",
    "\n",
    "        #shaP = stats.shapiro(D_i)[1]\n",
    "        levP = stats.levene(D_i[label == 0.1], D_i[label == 0.9])[1]\n",
    "        #print(shaP, levP)\n",
    "        equl = (levP > leven_Cutoff)\n",
    "        if(equl): #두 그룹의 분산이 같음 -> equal_var=True\n",
    "            Pval = stats.ttest_ind(D_i[label == 0.1], D_i[label == 0.9], equal_var=True)[1]\n",
    "        else:\n",
    "            Pval = stats.ttest_ind(D_i[label == 0.1], D_i[label == 0.9], equal_var=False)[1]\n",
    "\n",
    "        TaxaIDs.append(D_i.name)\n",
    "        Levens.append(levP)\n",
    "        Equality.append(equl)\n",
    "        TPs.append(Pval)\n",
    "        Avg.append(D_i.mean())\n",
    "        SD.append(np.std(D_i))\n",
    "        Med.append(np.median(D_i))\n",
    "        Max.append(np.max(D_i))\n",
    "        Min.append(np.min(D_i))\n",
    "\n",
    "    TestResDic = {'Taxa_ID':TaxaIDs, 'Leven_Pval':Levens, \\\n",
    "                  'Var_Equal':Equality, 'Ttest_Pval':TPs, \\\n",
    "                  'Average':Avg, 'SD':SD, 'Median':Med, 'Max':Max, 'Min':Min}\n",
    "    TestResDF = pd.DataFrame(TestResDic).sort_values('Average', ascending=False).reset_index().iloc[:,1:]\n",
    "    \n",
    "    return(TestResDF)"
   ]
  },
  {
   "cell_type": "code",
   "execution_count": 337,
   "metadata": {},
   "outputs": [],
   "source": [
    "D_stat = FeatureStats(D_main[0], D_main[1])"
   ]
  },
  {
   "cell_type": "code",
   "execution_count": null,
   "metadata": {},
   "outputs": [],
   "source": []
  },
  {
   "cell_type": "code",
   "execution_count": 359,
   "metadata": {},
   "outputs": [],
   "source": [
    "def SelcFeatures(Fstat_data, Cutoff = 0.1): ## Cutoff unit: (%)\n",
    "    Cutoffp = Cutoff*0.01\n",
    "    #return(Fstat_data.iloc[:round(Fstat_data.shape[0]*Quantile),].Taxa_ID)\n",
    "    return(Fstat_data[Fstat_data.Average >= Cutoffp].Taxa_ID)"
   ]
  },
  {
   "cell_type": "code",
   "execution_count": null,
   "metadata": {},
   "outputs": [],
   "source": []
  },
  {
   "cell_type": "code",
   "execution_count": 469,
   "metadata": {},
   "outputs": [],
   "source": [
    "D_acc_1 = D_main[0].loc[D_main[0].index.sort_values(),:]"
   ]
  },
  {
   "cell_type": "code",
   "execution_count": 528,
   "metadata": {},
   "outputs": [
    {
     "name": "stdout",
     "output_type": "stream",
     "text": [
      "ACC start for p!\n",
      "ACC start for c!\n",
      "ACC start for o!\n",
      "ACC start for f!\n",
      "ACC start for g!\n"
     ]
    }
   ],
   "source": [
    "#1. K__ True 합\n",
    "LevSep = ['p', 'c', 'o', 'f', 'g']\n",
    "#LevSep = ['p', 'c', 'o']\n",
    "\n",
    "ACC_Dict = {}\n",
    "\n",
    "accK = 1e-7\n",
    "for lv in LevSep:\n",
    "    \n",
    "    accK = accK*10\n",
    "    \n",
    "    print('ACC start for {}!'.format(lv))\n",
    "    \n",
    "    Idx1 = [x.split('; {}__'.format(lv))[0] for x in D_acc_1.index.tolist()]\n",
    "    Kys = list(Counter(Idx1).keys())\n",
    "    \n",
    "    for Ky in Kys:\n",
    "        #print(Ky)\n",
    "        tmpA = D_acc_1[np.array(Idx1) == Ky]\n",
    "        if Ky == Kys[0]:\n",
    "            ACCt = pd.DataFrame(0, index=tmpA.index, columns=tmpA.columns) + (tmpA.sum()*accK)\n",
    "        else:\n",
    "            ACCt = ACCt.append(pd.DataFrame(0, index=tmpA.index, columns=tmpA.columns) + (tmpA.sum()*accK))\n",
    "    \n",
    "    ACC_Dict[lv] = ACCt"
   ]
  },
  {
   "cell_type": "code",
   "execution_count": null,
   "metadata": {},
   "outputs": [],
   "source": []
  },
  {
   "cell_type": "code",
   "execution_count": 531,
   "metadata": {},
   "outputs": [],
   "source": [
    "ACC_DF = ACC_Dict['p'] + ACC_Dict['c'] + ACC_Dict['o'] + ACC_Dict['f'] + ACC_Dict['g'] + D_acc_1"
   ]
  },
  {
   "cell_type": "code",
   "execution_count": 535,
   "metadata": {},
   "outputs": [
    {
     "data": {
      "text/plain": [
       "ST0449S    1.382438\n",
       "ST0450S    1.364469\n",
       "ST0496S    1.390618\n",
       "ST0510S    1.483859\n",
       "ST0515S    1.343264\n",
       "             ...   \n",
       "ST4187S    1.436071\n",
       "ST4188S    1.480101\n",
       "ST4189S    1.451732\n",
       "ST4194S    1.405353\n",
       "ST4196S    1.387183\n",
       "Length: 318, dtype: float64"
      ]
     },
     "execution_count": 535,
     "metadata": {},
     "output_type": "execute_result"
    }
   ],
   "source": [
    "D_acc_1.sum()"
   ]
  },
  {
   "cell_type": "code",
   "execution_count": 534,
   "metadata": {},
   "outputs": [
    {
     "data": {
      "text/plain": [
       "ST0449S    2.011942\n",
       "ST0450S    1.964926\n",
       "ST0496S    2.025939\n",
       "ST0510S    2.299988\n",
       "ST0515S    1.875139\n",
       "             ...   \n",
       "ST4187S    2.209670\n",
       "ST4188S    2.358754\n",
       "ST4189S    2.254220\n",
       "ST4194S    2.108918\n",
       "ST4196S    2.021165\n",
       "Length: 318, dtype: float64"
      ]
     },
     "execution_count": 534,
     "metadata": {},
     "output_type": "execute_result"
    }
   ],
   "source": [
    "ACC_DF.sum()"
   ]
  },
  {
   "cell_type": "code",
   "execution_count": 514,
   "metadata": {},
   "outputs": [
    {
     "data": {
      "text/plain": [
       "(1462, 318)"
      ]
     },
     "execution_count": 514,
     "metadata": {},
     "output_type": "execute_result"
    }
   ],
   "source": [
    "ACC_Dict['c'].shape"
   ]
  },
  {
   "cell_type": "code",
   "execution_count": 473,
   "metadata": {},
   "outputs": [],
   "source": [
    "#D_acc_1[Idx1 == Ky]"
   ]
  },
  {
   "cell_type": "code",
   "execution_count": 484,
   "metadata": {},
   "outputs": [
    {
     "name": "stdout",
     "output_type": "stream",
     "text": [
      "k__Archaea\n",
      "k__Bacteria\n"
     ]
    }
   ],
   "source": [
    "for Ky in Kys:\n",
    "    print(Ky)\n",
    "    tmpA = D_acc_1[np.array(Idx1) == Ky]\n",
    "    if Ky == Kys[0]:\n",
    "        ACCt = pd.DataFrame(0, index=tmpA.index, columns=tmpA.columns) + tmpA.sum()\n",
    "    else:\n",
    "        ACCt = ACC.append(pd.DataFrame(0, index=tmpA.index, columns=tmpA.columns) + tmpA.sum())\n",
    "    \n"
   ]
  },
  {
   "cell_type": "code",
   "execution_count": 479,
   "metadata": {},
   "outputs": [],
   "source": [
    "tmpA = D_acc_1[np.array(Idx1) == Kys[1]]"
   ]
  },
  {
   "cell_type": "code",
   "execution_count": 485,
   "metadata": {},
   "outputs": [
    {
     "data": {
      "text/html": [
       "<div>\n",
       "<style scoped>\n",
       "    .dataframe tbody tr th:only-of-type {\n",
       "        vertical-align: middle;\n",
       "    }\n",
       "\n",
       "    .dataframe tbody tr th {\n",
       "        vertical-align: top;\n",
       "    }\n",
       "\n",
       "    .dataframe thead th {\n",
       "        text-align: right;\n",
       "    }\n",
       "</style>\n",
       "<table border=\"1\" class=\"dataframe\">\n",
       "  <thead>\n",
       "    <tr style=\"text-align: right;\">\n",
       "      <th></th>\n",
       "      <th>ST0449S</th>\n",
       "      <th>ST0450S</th>\n",
       "      <th>ST0496S</th>\n",
       "      <th>ST0510S</th>\n",
       "      <th>ST0515S</th>\n",
       "      <th>ST0518S</th>\n",
       "      <th>ST0520S</th>\n",
       "      <th>ST0523S</th>\n",
       "      <th>ST0525S</th>\n",
       "      <th>ST0798S</th>\n",
       "      <th>...</th>\n",
       "      <th>ST4091S</th>\n",
       "      <th>ST4100S</th>\n",
       "      <th>ST4106S</th>\n",
       "      <th>ST4111S</th>\n",
       "      <th>ST4141S</th>\n",
       "      <th>ST4187S</th>\n",
       "      <th>ST4188S</th>\n",
       "      <th>ST4189S</th>\n",
       "      <th>ST4194S</th>\n",
       "      <th>ST4196S</th>\n",
       "    </tr>\n",
       "  </thead>\n",
       "  <tbody>\n",
       "    <tr>\n",
       "      <td>k__Archaea; p__Euryarchaeota; c__Halobacteria; o__Halobacteriales; f__Haloferacaceae; g__Halolamina;</td>\n",
       "      <td>0.000000</td>\n",
       "      <td>0.000000</td>\n",
       "      <td>0.000000</td>\n",
       "      <td>0.001677</td>\n",
       "      <td>0.000000</td>\n",
       "      <td>0.000000</td>\n",
       "      <td>0.000000</td>\n",
       "      <td>0.000000</td>\n",
       "      <td>0.000000</td>\n",
       "      <td>0.00000</td>\n",
       "      <td>...</td>\n",
       "      <td>0.009317</td>\n",
       "      <td>0.000000</td>\n",
       "      <td>0.00000</td>\n",
       "      <td>0.005559</td>\n",
       "      <td>0.011046</td>\n",
       "      <td>0.035535</td>\n",
       "      <td>0.000000</td>\n",
       "      <td>0.000000</td>\n",
       "      <td>0.006103</td>\n",
       "      <td>0.014394</td>\n",
       "    </tr>\n",
       "    <tr>\n",
       "      <td>k__Archaea; p__Euryarchaeota; c__Methanobacteria; o__Methanobacteriales; f__Methanobacteriaceae; g__Methanobacterium;</td>\n",
       "      <td>0.000000</td>\n",
       "      <td>0.000000</td>\n",
       "      <td>0.000000</td>\n",
       "      <td>0.001677</td>\n",
       "      <td>0.000000</td>\n",
       "      <td>0.000000</td>\n",
       "      <td>0.000000</td>\n",
       "      <td>0.000000</td>\n",
       "      <td>0.000000</td>\n",
       "      <td>0.00000</td>\n",
       "      <td>...</td>\n",
       "      <td>0.009317</td>\n",
       "      <td>0.000000</td>\n",
       "      <td>0.00000</td>\n",
       "      <td>0.005559</td>\n",
       "      <td>0.011046</td>\n",
       "      <td>0.035535</td>\n",
       "      <td>0.000000</td>\n",
       "      <td>0.000000</td>\n",
       "      <td>0.006103</td>\n",
       "      <td>0.014394</td>\n",
       "    </tr>\n",
       "    <tr>\n",
       "      <td>k__Archaea; p__Euryarchaeota; c__Methanobacteria; o__Methanobacteriales; f__Methanobacteriaceae; g__Methanobrevibacter;</td>\n",
       "      <td>0.000000</td>\n",
       "      <td>0.000000</td>\n",
       "      <td>0.000000</td>\n",
       "      <td>0.001677</td>\n",
       "      <td>0.000000</td>\n",
       "      <td>0.000000</td>\n",
       "      <td>0.000000</td>\n",
       "      <td>0.000000</td>\n",
       "      <td>0.000000</td>\n",
       "      <td>0.00000</td>\n",
       "      <td>...</td>\n",
       "      <td>0.009317</td>\n",
       "      <td>0.000000</td>\n",
       "      <td>0.00000</td>\n",
       "      <td>0.005559</td>\n",
       "      <td>0.011046</td>\n",
       "      <td>0.035535</td>\n",
       "      <td>0.000000</td>\n",
       "      <td>0.000000</td>\n",
       "      <td>0.006103</td>\n",
       "      <td>0.014394</td>\n",
       "    </tr>\n",
       "    <tr>\n",
       "      <td>k__Archaea; p__Euryarchaeota; c__Methanobacteria; o__Methanobacteriales; f__Methanobacteriaceae; g__Methanosphaera;</td>\n",
       "      <td>0.000000</td>\n",
       "      <td>0.000000</td>\n",
       "      <td>0.000000</td>\n",
       "      <td>0.001677</td>\n",
       "      <td>0.000000</td>\n",
       "      <td>0.000000</td>\n",
       "      <td>0.000000</td>\n",
       "      <td>0.000000</td>\n",
       "      <td>0.000000</td>\n",
       "      <td>0.00000</td>\n",
       "      <td>...</td>\n",
       "      <td>0.009317</td>\n",
       "      <td>0.000000</td>\n",
       "      <td>0.00000</td>\n",
       "      <td>0.005559</td>\n",
       "      <td>0.011046</td>\n",
       "      <td>0.035535</td>\n",
       "      <td>0.000000</td>\n",
       "      <td>0.000000</td>\n",
       "      <td>0.006103</td>\n",
       "      <td>0.014394</td>\n",
       "    </tr>\n",
       "    <tr>\n",
       "      <td>k__Archaea; p__Euryarchaeota; c__Thermoplasmata; o__Methanomassiliicoccales; f__Methanomethylophilaceae; g__Candidatus Methanomethylophilus;</td>\n",
       "      <td>0.000000</td>\n",
       "      <td>0.000000</td>\n",
       "      <td>0.000000</td>\n",
       "      <td>0.001677</td>\n",
       "      <td>0.000000</td>\n",
       "      <td>0.000000</td>\n",
       "      <td>0.000000</td>\n",
       "      <td>0.000000</td>\n",
       "      <td>0.000000</td>\n",
       "      <td>0.00000</td>\n",
       "      <td>...</td>\n",
       "      <td>0.009317</td>\n",
       "      <td>0.000000</td>\n",
       "      <td>0.00000</td>\n",
       "      <td>0.005559</td>\n",
       "      <td>0.011046</td>\n",
       "      <td>0.035535</td>\n",
       "      <td>0.000000</td>\n",
       "      <td>0.000000</td>\n",
       "      <td>0.006103</td>\n",
       "      <td>0.014394</td>\n",
       "    </tr>\n",
       "    <tr>\n",
       "      <td>...</td>\n",
       "      <td>...</td>\n",
       "      <td>...</td>\n",
       "      <td>...</td>\n",
       "      <td>...</td>\n",
       "      <td>...</td>\n",
       "      <td>...</td>\n",
       "      <td>...</td>\n",
       "      <td>...</td>\n",
       "      <td>...</td>\n",
       "      <td>...</td>\n",
       "      <td>...</td>\n",
       "      <td>...</td>\n",
       "      <td>...</td>\n",
       "      <td>...</td>\n",
       "      <td>...</td>\n",
       "      <td>...</td>\n",
       "      <td>...</td>\n",
       "      <td>...</td>\n",
       "      <td>...</td>\n",
       "      <td>...</td>\n",
       "      <td>...</td>\n",
       "    </tr>\n",
       "    <tr>\n",
       "      <td>k__Bacteria; p__Verrucomicrobia; c__Verrucomicrobiae; o__Verrucomicrobiales; f__Verrucomicrobiaceae; g__Roseimicrobium;</td>\n",
       "      <td>1.382438</td>\n",
       "      <td>1.364469</td>\n",
       "      <td>1.390618</td>\n",
       "      <td>1.482182</td>\n",
       "      <td>1.343264</td>\n",
       "      <td>1.427342</td>\n",
       "      <td>1.501361</td>\n",
       "      <td>1.393659</td>\n",
       "      <td>1.505799</td>\n",
       "      <td>1.42052</td>\n",
       "      <td>...</td>\n",
       "      <td>1.502901</td>\n",
       "      <td>1.486015</td>\n",
       "      <td>1.53869</td>\n",
       "      <td>1.529219</td>\n",
       "      <td>1.582937</td>\n",
       "      <td>1.400536</td>\n",
       "      <td>1.480101</td>\n",
       "      <td>1.451732</td>\n",
       "      <td>1.399250</td>\n",
       "      <td>1.372789</td>\n",
       "    </tr>\n",
       "    <tr>\n",
       "      <td>k__Bacteria; p__Verrucomicrobia; c__Verrucomicrobiae; o__Verrucomicrobiales; f__Verrucomicrobiaceae; g__unidentified</td>\n",
       "      <td>1.382438</td>\n",
       "      <td>1.364469</td>\n",
       "      <td>1.390618</td>\n",
       "      <td>1.482182</td>\n",
       "      <td>1.343264</td>\n",
       "      <td>1.427342</td>\n",
       "      <td>1.501361</td>\n",
       "      <td>1.393659</td>\n",
       "      <td>1.505799</td>\n",
       "      <td>1.42052</td>\n",
       "      <td>...</td>\n",
       "      <td>1.502901</td>\n",
       "      <td>1.486015</td>\n",
       "      <td>1.53869</td>\n",
       "      <td>1.529219</td>\n",
       "      <td>1.582937</td>\n",
       "      <td>1.400536</td>\n",
       "      <td>1.480101</td>\n",
       "      <td>1.451732</td>\n",
       "      <td>1.399250</td>\n",
       "      <td>1.372789</td>\n",
       "    </tr>\n",
       "    <tr>\n",
       "      <td>k__Bacteria; p__WPS-2; c__metagenome; o__metagenome; f__metagenome; g__metagenome;</td>\n",
       "      <td>1.382438</td>\n",
       "      <td>1.364469</td>\n",
       "      <td>1.390618</td>\n",
       "      <td>1.482182</td>\n",
       "      <td>1.343264</td>\n",
       "      <td>1.427342</td>\n",
       "      <td>1.501361</td>\n",
       "      <td>1.393659</td>\n",
       "      <td>1.505799</td>\n",
       "      <td>1.42052</td>\n",
       "      <td>...</td>\n",
       "      <td>1.502901</td>\n",
       "      <td>1.486015</td>\n",
       "      <td>1.53869</td>\n",
       "      <td>1.529219</td>\n",
       "      <td>1.582937</td>\n",
       "      <td>1.400536</td>\n",
       "      <td>1.480101</td>\n",
       "      <td>1.451732</td>\n",
       "      <td>1.399250</td>\n",
       "      <td>1.372789</td>\n",
       "    </tr>\n",
       "    <tr>\n",
       "      <td>k__Bacteria; p__WPS-2; c__uncultured bacterium; o__uncultured bacterium; f__uncultured bacterium; g__unidentified</td>\n",
       "      <td>1.382438</td>\n",
       "      <td>1.364469</td>\n",
       "      <td>1.390618</td>\n",
       "      <td>1.482182</td>\n",
       "      <td>1.343264</td>\n",
       "      <td>1.427342</td>\n",
       "      <td>1.501361</td>\n",
       "      <td>1.393659</td>\n",
       "      <td>1.505799</td>\n",
       "      <td>1.42052</td>\n",
       "      <td>...</td>\n",
       "      <td>1.502901</td>\n",
       "      <td>1.486015</td>\n",
       "      <td>1.53869</td>\n",
       "      <td>1.529219</td>\n",
       "      <td>1.582937</td>\n",
       "      <td>1.400536</td>\n",
       "      <td>1.480101</td>\n",
       "      <td>1.451732</td>\n",
       "      <td>1.399250</td>\n",
       "      <td>1.372789</td>\n",
       "    </tr>\n",
       "    <tr>\n",
       "      <td>k__Bacteria; p__WS2; c__uncultured bacterium; o__uncultured bacterium; f__uncultured bacterium; g__unidentified</td>\n",
       "      <td>1.382438</td>\n",
       "      <td>1.364469</td>\n",
       "      <td>1.390618</td>\n",
       "      <td>1.482182</td>\n",
       "      <td>1.343264</td>\n",
       "      <td>1.427342</td>\n",
       "      <td>1.501361</td>\n",
       "      <td>1.393659</td>\n",
       "      <td>1.505799</td>\n",
       "      <td>1.42052</td>\n",
       "      <td>...</td>\n",
       "      <td>1.502901</td>\n",
       "      <td>1.486015</td>\n",
       "      <td>1.53869</td>\n",
       "      <td>1.529219</td>\n",
       "      <td>1.582937</td>\n",
       "      <td>1.400536</td>\n",
       "      <td>1.480101</td>\n",
       "      <td>1.451732</td>\n",
       "      <td>1.399250</td>\n",
       "      <td>1.372789</td>\n",
       "    </tr>\n",
       "  </tbody>\n",
       "</table>\n",
       "<p>1462 rows × 318 columns</p>\n",
       "</div>"
      ],
      "text/plain": [
       "                                                     ST0449S   ST0450S  \\\n",
       "k__Archaea; p__Euryarchaeota; c__Halobacteria; ...  0.000000  0.000000   \n",
       "k__Archaea; p__Euryarchaeota; c__Methanobacteri...  0.000000  0.000000   \n",
       "k__Archaea; p__Euryarchaeota; c__Methanobacteri...  0.000000  0.000000   \n",
       "k__Archaea; p__Euryarchaeota; c__Methanobacteri...  0.000000  0.000000   \n",
       "k__Archaea; p__Euryarchaeota; c__Thermoplasmata...  0.000000  0.000000   \n",
       "...                                                      ...       ...   \n",
       "k__Bacteria; p__Verrucomicrobia; c__Verrucomicr...  1.382438  1.364469   \n",
       "k__Bacteria; p__Verrucomicrobia; c__Verrucomicr...  1.382438  1.364469   \n",
       "k__Bacteria; p__WPS-2; c__metagenome; o__metage...  1.382438  1.364469   \n",
       "k__Bacteria; p__WPS-2; c__uncultured bacterium;...  1.382438  1.364469   \n",
       "k__Bacteria; p__WS2; c__uncultured bacterium; o...  1.382438  1.364469   \n",
       "\n",
       "                                                     ST0496S   ST0510S  \\\n",
       "k__Archaea; p__Euryarchaeota; c__Halobacteria; ...  0.000000  0.001677   \n",
       "k__Archaea; p__Euryarchaeota; c__Methanobacteri...  0.000000  0.001677   \n",
       "k__Archaea; p__Euryarchaeota; c__Methanobacteri...  0.000000  0.001677   \n",
       "k__Archaea; p__Euryarchaeota; c__Methanobacteri...  0.000000  0.001677   \n",
       "k__Archaea; p__Euryarchaeota; c__Thermoplasmata...  0.000000  0.001677   \n",
       "...                                                      ...       ...   \n",
       "k__Bacteria; p__Verrucomicrobia; c__Verrucomicr...  1.390618  1.482182   \n",
       "k__Bacteria; p__Verrucomicrobia; c__Verrucomicr...  1.390618  1.482182   \n",
       "k__Bacteria; p__WPS-2; c__metagenome; o__metage...  1.390618  1.482182   \n",
       "k__Bacteria; p__WPS-2; c__uncultured bacterium;...  1.390618  1.482182   \n",
       "k__Bacteria; p__WS2; c__uncultured bacterium; o...  1.390618  1.482182   \n",
       "\n",
       "                                                     ST0515S   ST0518S  \\\n",
       "k__Archaea; p__Euryarchaeota; c__Halobacteria; ...  0.000000  0.000000   \n",
       "k__Archaea; p__Euryarchaeota; c__Methanobacteri...  0.000000  0.000000   \n",
       "k__Archaea; p__Euryarchaeota; c__Methanobacteri...  0.000000  0.000000   \n",
       "k__Archaea; p__Euryarchaeota; c__Methanobacteri...  0.000000  0.000000   \n",
       "k__Archaea; p__Euryarchaeota; c__Thermoplasmata...  0.000000  0.000000   \n",
       "...                                                      ...       ...   \n",
       "k__Bacteria; p__Verrucomicrobia; c__Verrucomicr...  1.343264  1.427342   \n",
       "k__Bacteria; p__Verrucomicrobia; c__Verrucomicr...  1.343264  1.427342   \n",
       "k__Bacteria; p__WPS-2; c__metagenome; o__metage...  1.343264  1.427342   \n",
       "k__Bacteria; p__WPS-2; c__uncultured bacterium;...  1.343264  1.427342   \n",
       "k__Bacteria; p__WS2; c__uncultured bacterium; o...  1.343264  1.427342   \n",
       "\n",
       "                                                     ST0520S   ST0523S  \\\n",
       "k__Archaea; p__Euryarchaeota; c__Halobacteria; ...  0.000000  0.000000   \n",
       "k__Archaea; p__Euryarchaeota; c__Methanobacteri...  0.000000  0.000000   \n",
       "k__Archaea; p__Euryarchaeota; c__Methanobacteri...  0.000000  0.000000   \n",
       "k__Archaea; p__Euryarchaeota; c__Methanobacteri...  0.000000  0.000000   \n",
       "k__Archaea; p__Euryarchaeota; c__Thermoplasmata...  0.000000  0.000000   \n",
       "...                                                      ...       ...   \n",
       "k__Bacteria; p__Verrucomicrobia; c__Verrucomicr...  1.501361  1.393659   \n",
       "k__Bacteria; p__Verrucomicrobia; c__Verrucomicr...  1.501361  1.393659   \n",
       "k__Bacteria; p__WPS-2; c__metagenome; o__metage...  1.501361  1.393659   \n",
       "k__Bacteria; p__WPS-2; c__uncultured bacterium;...  1.501361  1.393659   \n",
       "k__Bacteria; p__WS2; c__uncultured bacterium; o...  1.501361  1.393659   \n",
       "\n",
       "                                                     ST0525S  ST0798S  ...  \\\n",
       "k__Archaea; p__Euryarchaeota; c__Halobacteria; ...  0.000000  0.00000  ...   \n",
       "k__Archaea; p__Euryarchaeota; c__Methanobacteri...  0.000000  0.00000  ...   \n",
       "k__Archaea; p__Euryarchaeota; c__Methanobacteri...  0.000000  0.00000  ...   \n",
       "k__Archaea; p__Euryarchaeota; c__Methanobacteri...  0.000000  0.00000  ...   \n",
       "k__Archaea; p__Euryarchaeota; c__Thermoplasmata...  0.000000  0.00000  ...   \n",
       "...                                                      ...      ...  ...   \n",
       "k__Bacteria; p__Verrucomicrobia; c__Verrucomicr...  1.505799  1.42052  ...   \n",
       "k__Bacteria; p__Verrucomicrobia; c__Verrucomicr...  1.505799  1.42052  ...   \n",
       "k__Bacteria; p__WPS-2; c__metagenome; o__metage...  1.505799  1.42052  ...   \n",
       "k__Bacteria; p__WPS-2; c__uncultured bacterium;...  1.505799  1.42052  ...   \n",
       "k__Bacteria; p__WS2; c__uncultured bacterium; o...  1.505799  1.42052  ...   \n",
       "\n",
       "                                                     ST4091S   ST4100S  \\\n",
       "k__Archaea; p__Euryarchaeota; c__Halobacteria; ...  0.009317  0.000000   \n",
       "k__Archaea; p__Euryarchaeota; c__Methanobacteri...  0.009317  0.000000   \n",
       "k__Archaea; p__Euryarchaeota; c__Methanobacteri...  0.009317  0.000000   \n",
       "k__Archaea; p__Euryarchaeota; c__Methanobacteri...  0.009317  0.000000   \n",
       "k__Archaea; p__Euryarchaeota; c__Thermoplasmata...  0.009317  0.000000   \n",
       "...                                                      ...       ...   \n",
       "k__Bacteria; p__Verrucomicrobia; c__Verrucomicr...  1.502901  1.486015   \n",
       "k__Bacteria; p__Verrucomicrobia; c__Verrucomicr...  1.502901  1.486015   \n",
       "k__Bacteria; p__WPS-2; c__metagenome; o__metage...  1.502901  1.486015   \n",
       "k__Bacteria; p__WPS-2; c__uncultured bacterium;...  1.502901  1.486015   \n",
       "k__Bacteria; p__WS2; c__uncultured bacterium; o...  1.502901  1.486015   \n",
       "\n",
       "                                                    ST4106S   ST4111S  \\\n",
       "k__Archaea; p__Euryarchaeota; c__Halobacteria; ...  0.00000  0.005559   \n",
       "k__Archaea; p__Euryarchaeota; c__Methanobacteri...  0.00000  0.005559   \n",
       "k__Archaea; p__Euryarchaeota; c__Methanobacteri...  0.00000  0.005559   \n",
       "k__Archaea; p__Euryarchaeota; c__Methanobacteri...  0.00000  0.005559   \n",
       "k__Archaea; p__Euryarchaeota; c__Thermoplasmata...  0.00000  0.005559   \n",
       "...                                                     ...       ...   \n",
       "k__Bacteria; p__Verrucomicrobia; c__Verrucomicr...  1.53869  1.529219   \n",
       "k__Bacteria; p__Verrucomicrobia; c__Verrucomicr...  1.53869  1.529219   \n",
       "k__Bacteria; p__WPS-2; c__metagenome; o__metage...  1.53869  1.529219   \n",
       "k__Bacteria; p__WPS-2; c__uncultured bacterium;...  1.53869  1.529219   \n",
       "k__Bacteria; p__WS2; c__uncultured bacterium; o...  1.53869  1.529219   \n",
       "\n",
       "                                                     ST4141S   ST4187S  \\\n",
       "k__Archaea; p__Euryarchaeota; c__Halobacteria; ...  0.011046  0.035535   \n",
       "k__Archaea; p__Euryarchaeota; c__Methanobacteri...  0.011046  0.035535   \n",
       "k__Archaea; p__Euryarchaeota; c__Methanobacteri...  0.011046  0.035535   \n",
       "k__Archaea; p__Euryarchaeota; c__Methanobacteri...  0.011046  0.035535   \n",
       "k__Archaea; p__Euryarchaeota; c__Thermoplasmata...  0.011046  0.035535   \n",
       "...                                                      ...       ...   \n",
       "k__Bacteria; p__Verrucomicrobia; c__Verrucomicr...  1.582937  1.400536   \n",
       "k__Bacteria; p__Verrucomicrobia; c__Verrucomicr...  1.582937  1.400536   \n",
       "k__Bacteria; p__WPS-2; c__metagenome; o__metage...  1.582937  1.400536   \n",
       "k__Bacteria; p__WPS-2; c__uncultured bacterium;...  1.582937  1.400536   \n",
       "k__Bacteria; p__WS2; c__uncultured bacterium; o...  1.582937  1.400536   \n",
       "\n",
       "                                                     ST4188S   ST4189S  \\\n",
       "k__Archaea; p__Euryarchaeota; c__Halobacteria; ...  0.000000  0.000000   \n",
       "k__Archaea; p__Euryarchaeota; c__Methanobacteri...  0.000000  0.000000   \n",
       "k__Archaea; p__Euryarchaeota; c__Methanobacteri...  0.000000  0.000000   \n",
       "k__Archaea; p__Euryarchaeota; c__Methanobacteri...  0.000000  0.000000   \n",
       "k__Archaea; p__Euryarchaeota; c__Thermoplasmata...  0.000000  0.000000   \n",
       "...                                                      ...       ...   \n",
       "k__Bacteria; p__Verrucomicrobia; c__Verrucomicr...  1.480101  1.451732   \n",
       "k__Bacteria; p__Verrucomicrobia; c__Verrucomicr...  1.480101  1.451732   \n",
       "k__Bacteria; p__WPS-2; c__metagenome; o__metage...  1.480101  1.451732   \n",
       "k__Bacteria; p__WPS-2; c__uncultured bacterium;...  1.480101  1.451732   \n",
       "k__Bacteria; p__WS2; c__uncultured bacterium; o...  1.480101  1.451732   \n",
       "\n",
       "                                                     ST4194S   ST4196S  \n",
       "k__Archaea; p__Euryarchaeota; c__Halobacteria; ...  0.006103  0.014394  \n",
       "k__Archaea; p__Euryarchaeota; c__Methanobacteri...  0.006103  0.014394  \n",
       "k__Archaea; p__Euryarchaeota; c__Methanobacteri...  0.006103  0.014394  \n",
       "k__Archaea; p__Euryarchaeota; c__Methanobacteri...  0.006103  0.014394  \n",
       "k__Archaea; p__Euryarchaeota; c__Thermoplasmata...  0.006103  0.014394  \n",
       "...                                                      ...       ...  \n",
       "k__Bacteria; p__Verrucomicrobia; c__Verrucomicr...  1.399250  1.372789  \n",
       "k__Bacteria; p__Verrucomicrobia; c__Verrucomicr...  1.399250  1.372789  \n",
       "k__Bacteria; p__WPS-2; c__metagenome; o__metage...  1.399250  1.372789  \n",
       "k__Bacteria; p__WPS-2; c__uncultured bacterium;...  1.399250  1.372789  \n",
       "k__Bacteria; p__WS2; c__uncultured bacterium; o...  1.399250  1.372789  \n",
       "\n",
       "[1462 rows x 318 columns]"
      ]
     },
     "execution_count": 485,
     "metadata": {},
     "output_type": "execute_result"
    }
   ],
   "source": [
    "ACC"
   ]
  },
  {
   "cell_type": "code",
   "execution_count": 424,
   "metadata": {},
   "outputs": [],
   "source": [
    "IX = list(Counter(Idx1).keys())[0]"
   ]
  },
  {
   "cell_type": "code",
   "execution_count": 451,
   "metadata": {},
   "outputs": [],
   "source": [
    "tmpA = D_acc_1[np.array(Idx1) == IX]"
   ]
  },
  {
   "cell_type": "code",
   "execution_count": 461,
   "metadata": {},
   "outputs": [
    {
     "data": {
      "text/html": [
       "<div>\n",
       "<style scoped>\n",
       "    .dataframe tbody tr th:only-of-type {\n",
       "        vertical-align: middle;\n",
       "    }\n",
       "\n",
       "    .dataframe tbody tr th {\n",
       "        vertical-align: top;\n",
       "    }\n",
       "\n",
       "    .dataframe thead th {\n",
       "        text-align: right;\n",
       "    }\n",
       "</style>\n",
       "<table border=\"1\" class=\"dataframe\">\n",
       "  <thead>\n",
       "    <tr style=\"text-align: right;\">\n",
       "      <th></th>\n",
       "      <th>ST0449S</th>\n",
       "      <th>ST0450S</th>\n",
       "      <th>ST0496S</th>\n",
       "      <th>ST0510S</th>\n",
       "      <th>ST0515S</th>\n",
       "      <th>ST0518S</th>\n",
       "      <th>ST0520S</th>\n",
       "      <th>ST0523S</th>\n",
       "      <th>ST0525S</th>\n",
       "      <th>ST0798S</th>\n",
       "      <th>...</th>\n",
       "      <th>ST4091S</th>\n",
       "      <th>ST4100S</th>\n",
       "      <th>ST4106S</th>\n",
       "      <th>ST4111S</th>\n",
       "      <th>ST4141S</th>\n",
       "      <th>ST4187S</th>\n",
       "      <th>ST4188S</th>\n",
       "      <th>ST4189S</th>\n",
       "      <th>ST4194S</th>\n",
       "      <th>ST4196S</th>\n",
       "    </tr>\n",
       "  </thead>\n",
       "  <tbody>\n",
       "    <tr>\n",
       "      <td>k__Archaea; p__Euryarchaeota; c__Halobacteria; o__Halobacteriales; f__Haloferacaceae; g__Halolamina;</td>\n",
       "      <td>0.0</td>\n",
       "      <td>0.0</td>\n",
       "      <td>0.0</td>\n",
       "      <td>0.001677</td>\n",
       "      <td>0.0</td>\n",
       "      <td>0.0</td>\n",
       "      <td>0.0</td>\n",
       "      <td>0.0</td>\n",
       "      <td>0.0</td>\n",
       "      <td>0.0</td>\n",
       "      <td>...</td>\n",
       "      <td>0.009317</td>\n",
       "      <td>0.0</td>\n",
       "      <td>0.0</td>\n",
       "      <td>0.005559</td>\n",
       "      <td>0.011046</td>\n",
       "      <td>0.035535</td>\n",
       "      <td>0.0</td>\n",
       "      <td>0.0</td>\n",
       "      <td>0.006103</td>\n",
       "      <td>0.014394</td>\n",
       "    </tr>\n",
       "    <tr>\n",
       "      <td>k__Archaea; p__Euryarchaeota; c__Methanobacteria; o__Methanobacteriales; f__Methanobacteriaceae; g__Methanobacterium;</td>\n",
       "      <td>0.0</td>\n",
       "      <td>0.0</td>\n",
       "      <td>0.0</td>\n",
       "      <td>0.001677</td>\n",
       "      <td>0.0</td>\n",
       "      <td>0.0</td>\n",
       "      <td>0.0</td>\n",
       "      <td>0.0</td>\n",
       "      <td>0.0</td>\n",
       "      <td>0.0</td>\n",
       "      <td>...</td>\n",
       "      <td>0.009317</td>\n",
       "      <td>0.0</td>\n",
       "      <td>0.0</td>\n",
       "      <td>0.005559</td>\n",
       "      <td>0.011046</td>\n",
       "      <td>0.035535</td>\n",
       "      <td>0.0</td>\n",
       "      <td>0.0</td>\n",
       "      <td>0.006103</td>\n",
       "      <td>0.014394</td>\n",
       "    </tr>\n",
       "    <tr>\n",
       "      <td>k__Archaea; p__Euryarchaeota; c__Methanobacteria; o__Methanobacteriales; f__Methanobacteriaceae; g__Methanobrevibacter;</td>\n",
       "      <td>0.0</td>\n",
       "      <td>0.0</td>\n",
       "      <td>0.0</td>\n",
       "      <td>0.001677</td>\n",
       "      <td>0.0</td>\n",
       "      <td>0.0</td>\n",
       "      <td>0.0</td>\n",
       "      <td>0.0</td>\n",
       "      <td>0.0</td>\n",
       "      <td>0.0</td>\n",
       "      <td>...</td>\n",
       "      <td>0.009317</td>\n",
       "      <td>0.0</td>\n",
       "      <td>0.0</td>\n",
       "      <td>0.005559</td>\n",
       "      <td>0.011046</td>\n",
       "      <td>0.035535</td>\n",
       "      <td>0.0</td>\n",
       "      <td>0.0</td>\n",
       "      <td>0.006103</td>\n",
       "      <td>0.014394</td>\n",
       "    </tr>\n",
       "    <tr>\n",
       "      <td>k__Archaea; p__Euryarchaeota; c__Methanobacteria; o__Methanobacteriales; f__Methanobacteriaceae; g__Methanosphaera;</td>\n",
       "      <td>0.0</td>\n",
       "      <td>0.0</td>\n",
       "      <td>0.0</td>\n",
       "      <td>0.001677</td>\n",
       "      <td>0.0</td>\n",
       "      <td>0.0</td>\n",
       "      <td>0.0</td>\n",
       "      <td>0.0</td>\n",
       "      <td>0.0</td>\n",
       "      <td>0.0</td>\n",
       "      <td>...</td>\n",
       "      <td>0.009317</td>\n",
       "      <td>0.0</td>\n",
       "      <td>0.0</td>\n",
       "      <td>0.005559</td>\n",
       "      <td>0.011046</td>\n",
       "      <td>0.035535</td>\n",
       "      <td>0.0</td>\n",
       "      <td>0.0</td>\n",
       "      <td>0.006103</td>\n",
       "      <td>0.014394</td>\n",
       "    </tr>\n",
       "    <tr>\n",
       "      <td>k__Archaea; p__Euryarchaeota; c__Thermoplasmata; o__Methanomassiliicoccales; f__Methanomethylophilaceae; g__Candidatus Methanomethylophilus;</td>\n",
       "      <td>0.0</td>\n",
       "      <td>0.0</td>\n",
       "      <td>0.0</td>\n",
       "      <td>0.001677</td>\n",
       "      <td>0.0</td>\n",
       "      <td>0.0</td>\n",
       "      <td>0.0</td>\n",
       "      <td>0.0</td>\n",
       "      <td>0.0</td>\n",
       "      <td>0.0</td>\n",
       "      <td>...</td>\n",
       "      <td>0.009317</td>\n",
       "      <td>0.0</td>\n",
       "      <td>0.0</td>\n",
       "      <td>0.005559</td>\n",
       "      <td>0.011046</td>\n",
       "      <td>0.035535</td>\n",
       "      <td>0.0</td>\n",
       "      <td>0.0</td>\n",
       "      <td>0.006103</td>\n",
       "      <td>0.014394</td>\n",
       "    </tr>\n",
       "    <tr>\n",
       "      <td>k__Archaea; p__Euryarchaeota; c__Thermoplasmata; o__Methanomassiliicoccales; f__Methanomethylophilaceae; g__unidentified</td>\n",
       "      <td>0.0</td>\n",
       "      <td>0.0</td>\n",
       "      <td>0.0</td>\n",
       "      <td>0.001677</td>\n",
       "      <td>0.0</td>\n",
       "      <td>0.0</td>\n",
       "      <td>0.0</td>\n",
       "      <td>0.0</td>\n",
       "      <td>0.0</td>\n",
       "      <td>0.0</td>\n",
       "      <td>...</td>\n",
       "      <td>0.009317</td>\n",
       "      <td>0.0</td>\n",
       "      <td>0.0</td>\n",
       "      <td>0.005559</td>\n",
       "      <td>0.011046</td>\n",
       "      <td>0.035535</td>\n",
       "      <td>0.0</td>\n",
       "      <td>0.0</td>\n",
       "      <td>0.006103</td>\n",
       "      <td>0.014394</td>\n",
       "    </tr>\n",
       "  </tbody>\n",
       "</table>\n",
       "<p>6 rows × 318 columns</p>\n",
       "</div>"
      ],
      "text/plain": [
       "                                                    ST0449S  ST0450S  ST0496S  \\\n",
       "k__Archaea; p__Euryarchaeota; c__Halobacteria; ...      0.0      0.0      0.0   \n",
       "k__Archaea; p__Euryarchaeota; c__Methanobacteri...      0.0      0.0      0.0   \n",
       "k__Archaea; p__Euryarchaeota; c__Methanobacteri...      0.0      0.0      0.0   \n",
       "k__Archaea; p__Euryarchaeota; c__Methanobacteri...      0.0      0.0      0.0   \n",
       "k__Archaea; p__Euryarchaeota; c__Thermoplasmata...      0.0      0.0      0.0   \n",
       "k__Archaea; p__Euryarchaeota; c__Thermoplasmata...      0.0      0.0      0.0   \n",
       "\n",
       "                                                     ST0510S  ST0515S  \\\n",
       "k__Archaea; p__Euryarchaeota; c__Halobacteria; ...  0.001677      0.0   \n",
       "k__Archaea; p__Euryarchaeota; c__Methanobacteri...  0.001677      0.0   \n",
       "k__Archaea; p__Euryarchaeota; c__Methanobacteri...  0.001677      0.0   \n",
       "k__Archaea; p__Euryarchaeota; c__Methanobacteri...  0.001677      0.0   \n",
       "k__Archaea; p__Euryarchaeota; c__Thermoplasmata...  0.001677      0.0   \n",
       "k__Archaea; p__Euryarchaeota; c__Thermoplasmata...  0.001677      0.0   \n",
       "\n",
       "                                                    ST0518S  ST0520S  ST0523S  \\\n",
       "k__Archaea; p__Euryarchaeota; c__Halobacteria; ...      0.0      0.0      0.0   \n",
       "k__Archaea; p__Euryarchaeota; c__Methanobacteri...      0.0      0.0      0.0   \n",
       "k__Archaea; p__Euryarchaeota; c__Methanobacteri...      0.0      0.0      0.0   \n",
       "k__Archaea; p__Euryarchaeota; c__Methanobacteri...      0.0      0.0      0.0   \n",
       "k__Archaea; p__Euryarchaeota; c__Thermoplasmata...      0.0      0.0      0.0   \n",
       "k__Archaea; p__Euryarchaeota; c__Thermoplasmata...      0.0      0.0      0.0   \n",
       "\n",
       "                                                    ST0525S  ST0798S  ...  \\\n",
       "k__Archaea; p__Euryarchaeota; c__Halobacteria; ...      0.0      0.0  ...   \n",
       "k__Archaea; p__Euryarchaeota; c__Methanobacteri...      0.0      0.0  ...   \n",
       "k__Archaea; p__Euryarchaeota; c__Methanobacteri...      0.0      0.0  ...   \n",
       "k__Archaea; p__Euryarchaeota; c__Methanobacteri...      0.0      0.0  ...   \n",
       "k__Archaea; p__Euryarchaeota; c__Thermoplasmata...      0.0      0.0  ...   \n",
       "k__Archaea; p__Euryarchaeota; c__Thermoplasmata...      0.0      0.0  ...   \n",
       "\n",
       "                                                     ST4091S  ST4100S  \\\n",
       "k__Archaea; p__Euryarchaeota; c__Halobacteria; ...  0.009317      0.0   \n",
       "k__Archaea; p__Euryarchaeota; c__Methanobacteri...  0.009317      0.0   \n",
       "k__Archaea; p__Euryarchaeota; c__Methanobacteri...  0.009317      0.0   \n",
       "k__Archaea; p__Euryarchaeota; c__Methanobacteri...  0.009317      0.0   \n",
       "k__Archaea; p__Euryarchaeota; c__Thermoplasmata...  0.009317      0.0   \n",
       "k__Archaea; p__Euryarchaeota; c__Thermoplasmata...  0.009317      0.0   \n",
       "\n",
       "                                                    ST4106S   ST4111S  \\\n",
       "k__Archaea; p__Euryarchaeota; c__Halobacteria; ...      0.0  0.005559   \n",
       "k__Archaea; p__Euryarchaeota; c__Methanobacteri...      0.0  0.005559   \n",
       "k__Archaea; p__Euryarchaeota; c__Methanobacteri...      0.0  0.005559   \n",
       "k__Archaea; p__Euryarchaeota; c__Methanobacteri...      0.0  0.005559   \n",
       "k__Archaea; p__Euryarchaeota; c__Thermoplasmata...      0.0  0.005559   \n",
       "k__Archaea; p__Euryarchaeota; c__Thermoplasmata...      0.0  0.005559   \n",
       "\n",
       "                                                     ST4141S   ST4187S  \\\n",
       "k__Archaea; p__Euryarchaeota; c__Halobacteria; ...  0.011046  0.035535   \n",
       "k__Archaea; p__Euryarchaeota; c__Methanobacteri...  0.011046  0.035535   \n",
       "k__Archaea; p__Euryarchaeota; c__Methanobacteri...  0.011046  0.035535   \n",
       "k__Archaea; p__Euryarchaeota; c__Methanobacteri...  0.011046  0.035535   \n",
       "k__Archaea; p__Euryarchaeota; c__Thermoplasmata...  0.011046  0.035535   \n",
       "k__Archaea; p__Euryarchaeota; c__Thermoplasmata...  0.011046  0.035535   \n",
       "\n",
       "                                                    ST4188S  ST4189S  \\\n",
       "k__Archaea; p__Euryarchaeota; c__Halobacteria; ...      0.0      0.0   \n",
       "k__Archaea; p__Euryarchaeota; c__Methanobacteri...      0.0      0.0   \n",
       "k__Archaea; p__Euryarchaeota; c__Methanobacteri...      0.0      0.0   \n",
       "k__Archaea; p__Euryarchaeota; c__Methanobacteri...      0.0      0.0   \n",
       "k__Archaea; p__Euryarchaeota; c__Thermoplasmata...      0.0      0.0   \n",
       "k__Archaea; p__Euryarchaeota; c__Thermoplasmata...      0.0      0.0   \n",
       "\n",
       "                                                     ST4194S   ST4196S  \n",
       "k__Archaea; p__Euryarchaeota; c__Halobacteria; ...  0.006103  0.014394  \n",
       "k__Archaea; p__Euryarchaeota; c__Methanobacteri...  0.006103  0.014394  \n",
       "k__Archaea; p__Euryarchaeota; c__Methanobacteri...  0.006103  0.014394  \n",
       "k__Archaea; p__Euryarchaeota; c__Methanobacteri...  0.006103  0.014394  \n",
       "k__Archaea; p__Euryarchaeota; c__Thermoplasmata...  0.006103  0.014394  \n",
       "k__Archaea; p__Euryarchaeota; c__Thermoplasmata...  0.006103  0.014394  \n",
       "\n",
       "[6 rows x 318 columns]"
      ]
     },
     "execution_count": 461,
     "metadata": {},
     "output_type": "execute_result"
    }
   ],
   "source": [
    "pd.DataFrame(0, index=tmpA.index, columns=tmpA.columns) + tmpA.sum()"
   ]
  },
  {
   "cell_type": "code",
   "execution_count": 458,
   "metadata": {},
   "outputs": [],
   "source": [
    "tmpA + tmpA.sum()"
   ]
  },
  {
   "cell_type": "code",
   "execution_count": 436,
   "metadata": {},
   "outputs": [
    {
     "data": {
      "text/html": [
       "<div>\n",
       "<style scoped>\n",
       "    .dataframe tbody tr th:only-of-type {\n",
       "        vertical-align: middle;\n",
       "    }\n",
       "\n",
       "    .dataframe tbody tr th {\n",
       "        vertical-align: top;\n",
       "    }\n",
       "\n",
       "    .dataframe thead th {\n",
       "        text-align: right;\n",
       "    }\n",
       "</style>\n",
       "<table border=\"1\" class=\"dataframe\">\n",
       "  <thead>\n",
       "    <tr style=\"text-align: right;\">\n",
       "      <th></th>\n",
       "      <th>ST0449S</th>\n",
       "      <th>ST0450S</th>\n",
       "      <th>ST0496S</th>\n",
       "      <th>ST0510S</th>\n",
       "      <th>ST0515S</th>\n",
       "      <th>ST0518S</th>\n",
       "      <th>ST0520S</th>\n",
       "      <th>ST0523S</th>\n",
       "      <th>ST0525S</th>\n",
       "      <th>ST0798S</th>\n",
       "      <th>...</th>\n",
       "      <th>ST4091S</th>\n",
       "      <th>ST4100S</th>\n",
       "      <th>ST4106S</th>\n",
       "      <th>ST4111S</th>\n",
       "      <th>ST4141S</th>\n",
       "      <th>ST4187S</th>\n",
       "      <th>ST4188S</th>\n",
       "      <th>ST4189S</th>\n",
       "      <th>ST4194S</th>\n",
       "      <th>ST4196S</th>\n",
       "    </tr>\n",
       "  </thead>\n",
       "  <tbody>\n",
       "    <tr>\n",
       "      <td>0</td>\n",
       "      <td>0.0</td>\n",
       "      <td>0.0</td>\n",
       "      <td>0.0</td>\n",
       "      <td>0.001677</td>\n",
       "      <td>0.0</td>\n",
       "      <td>0.0</td>\n",
       "      <td>0.0</td>\n",
       "      <td>0.0</td>\n",
       "      <td>0.0</td>\n",
       "      <td>0.0</td>\n",
       "      <td>...</td>\n",
       "      <td>0.009317</td>\n",
       "      <td>0.0</td>\n",
       "      <td>0.0</td>\n",
       "      <td>0.005559</td>\n",
       "      <td>0.011046</td>\n",
       "      <td>0.035535</td>\n",
       "      <td>0.0</td>\n",
       "      <td>0.0</td>\n",
       "      <td>0.006103</td>\n",
       "      <td>0.014394</td>\n",
       "    </tr>\n",
       "  </tbody>\n",
       "</table>\n",
       "<p>1 rows × 318 columns</p>\n",
       "</div>"
      ],
      "text/plain": [
       "   ST0449S  ST0450S  ST0496S   ST0510S  ST0515S  ST0518S  ST0520S  ST0523S  \\\n",
       "0      0.0      0.0      0.0  0.001677      0.0      0.0      0.0      0.0   \n",
       "\n",
       "   ST0525S  ST0798S  ...   ST4091S  ST4100S  ST4106S   ST4111S   ST4141S  \\\n",
       "0      0.0      0.0  ...  0.009317      0.0      0.0  0.005559  0.011046   \n",
       "\n",
       "    ST4187S  ST4188S  ST4189S   ST4194S   ST4196S  \n",
       "0  0.035535      0.0      0.0  0.006103  0.014394  \n",
       "\n",
       "[1 rows x 318 columns]"
      ]
     },
     "execution_count": 436,
     "metadata": {},
     "output_type": "execute_result"
    }
   ],
   "source": [
    "pd.DataFrame(D_acc_1[np.array(Idx1) == IX].sum(axis = 0)).T"
   ]
  },
  {
   "cell_type": "code",
   "execution_count": null,
   "metadata": {},
   "outputs": [],
   "source": []
  },
  {
   "cell_type": "code",
   "execution_count": null,
   "metadata": {},
   "outputs": [],
   "source": []
  },
  {
   "cell_type": "code",
   "execution_count": 411,
   "metadata": {},
   "outputs": [
    {
     "ename": "TypeError",
     "evalue": "dict expected at most 1 arguments, got 6",
     "output_type": "error",
     "traceback": [
      "\u001b[0;31m---------------------------------------------------------------------------\u001b[0m",
      "\u001b[0;31mTypeError\u001b[0m                                 Traceback (most recent call last)",
      "\u001b[0;32m<ipython-input-411-79be5b7d6b88>\u001b[0m in \u001b[0;36m<module>\u001b[0;34m\u001b[0m\n\u001b[0;32m----> 1\u001b[0;31m \u001b[0mdict\u001b[0m\u001b[0;34m(\u001b[0m\u001b[0;34m'c'\u001b[0m\u001b[0;34m,\u001b[0m \u001b[0;34m'c'\u001b[0m\u001b[0;34m,\u001b[0m \u001b[0;34m'c'\u001b[0m\u001b[0;34m,\u001b[0m \u001b[0;34m'a'\u001b[0m\u001b[0;34m,\u001b[0m \u001b[0;34m'a'\u001b[0m\u001b[0;34m,\u001b[0m \u001b[0;34m'b'\u001b[0m\u001b[0;34m)\u001b[0m\u001b[0;34m\u001b[0m\u001b[0;34m\u001b[0m\u001b[0m\n\u001b[0m",
      "\u001b[0;31mTypeError\u001b[0m: dict expected at most 1 arguments, got 6"
     ]
    }
   ],
   "source": [
    "dict('c', 'c', 'c', 'a', 'a', 'b')"
   ]
  },
  {
   "cell_type": "code",
   "execution_count": 397,
   "metadata": {},
   "outputs": [
    {
     "data": {
      "text/plain": [
       "Counter({'k__Archaea': 6, 'k__Bacteria': 1456})"
      ]
     },
     "execution_count": 397,
     "metadata": {},
     "output_type": "execute_result"
    }
   ],
   "source": [
    "Counter(Idx1)"
   ]
  },
  {
   "cell_type": "code",
   "execution_count": 360,
   "metadata": {},
   "outputs": [],
   "source": [
    "Feas = SelcFeatures(D_stat)"
   ]
  },
  {
   "cell_type": "code",
   "execution_count": 362,
   "metadata": {},
   "outputs": [],
   "source": [
    "D_main_selc = D_main[0].loc[Feas,:]"
   ]
  },
  {
   "cell_type": "code",
   "execution_count": null,
   "metadata": {},
   "outputs": [],
   "source": []
  },
  {
   "cell_type": "code",
   "execution_count": null,
   "metadata": {},
   "outputs": [],
   "source": [
    "def TrainTestSplit(DF, ratio=0.3, Label=0.1, Compose=True):\n",
    "    if Compose: ### 상대값으로 보정 샘플균 총량합 100\n",
    "        for i in range(DF.shape[0]):\n",
    "            DF.iloc[i,:] = (DF.iloc[i,:]/sum(DF.iloc[i,:]))*100\n",
    "    DF['Group'] = Label\n",
    "    import random\n",
    "    xi = np.arange(DF.shape[0])\n",
    "    np.random.seed(3492)\n",
    "    np.random.shuffle(xi)\n",
    "    xi = xi.tolist()\n",
    "\n",
    "    Testx = DF.iloc[xi[:round(DF.shape[0]*ratio)],:]\n",
    "    Trainx = DF.iloc[xi[round(DF.shape[0]*ratio):],:]\n",
    "    return({'TEST':Testx, 'TRAIN':Trainx})"
   ]
  },
  {
   "cell_type": "code",
   "execution_count": 287,
   "metadata": {},
   "outputs": [
    {
     "data": {
      "text/plain": [
       "16.703293088490067"
      ]
     },
     "execution_count": 287,
     "metadata": {},
     "output_type": "execute_result"
    }
   ],
   "source": [
    "np.sqrt(len(vec_sec))"
   ]
  },
  {
   "cell_type": "code",
   "execution_count": null,
   "metadata": {},
   "outputs": [],
   "source": []
  },
  {
   "cell_type": "code",
   "execution_count": 304,
   "metadata": {},
   "outputs": [],
   "source": [
    "B = [0,0,0]"
   ]
  },
  {
   "cell_type": "code",
   "execution_count": 301,
   "metadata": {},
   "outputs": [],
   "source": [
    "B.append(B)"
   ]
  },
  {
   "cell_type": "code",
   "execution_count": 307,
   "metadata": {},
   "outputs": [
    {
     "data": {
      "text/plain": [
       "[0, 0, 0, 0, 0, 0, 0, 0, 0, 0]"
      ]
     },
     "execution_count": 307,
     "metadata": {},
     "output_type": "execute_result"
    }
   ],
   "source": [
    "[0 for x in range(n - len(vec_sec))] + "
   ]
  },
  {
   "cell_type": "code",
   "execution_count": 306,
   "metadata": {},
   "outputs": [
    {
     "data": {
      "text/plain": [
       "10"
      ]
     },
     "execution_count": 306,
     "metadata": {},
     "output_type": "execute_result"
    }
   ],
   "source": [
    "n - len(vec_sec)"
   ]
  },
  {
   "cell_type": "code",
   "execution_count": 313,
   "metadata": {},
   "outputs": [
    {
     "data": {
      "text/plain": [
       "16"
      ]
     },
     "execution_count": 313,
     "metadata": {},
     "output_type": "execute_result"
    }
   ],
   "source": [
    "int(np.sqrt(len(vec_sec)))+1"
   ]
  },
  {
   "cell_type": "code",
   "execution_count": 316,
   "metadata": {},
   "outputs": [],
   "source": [
    "# Vec2IMG\n",
    "def Vec2IMG(Vector):\n",
    "    vec_sec = Vector\n",
    "    INn = int(np.sqrt(len(vec_sec)))+1\n",
    "    sampleID = vec_sec.name\n",
    "    vec_sec = vec_sec.to_list()\n",
    "    vec_sec.reverse()\n",
    "    Dlist = [0 for x in range(n - len(vec_sec))] + vec_sec\n",
    "    n = INn**2\n",
    "    pos = np.array([0,0])\n",
    "    POSlist = list()\n",
    "    POSlist.append(pos)\n",
    "    xx = [int(np.sqrt(n)-1)]\n",
    "    for x in range(int(np.sqrt(n)-1), 0, -1):\n",
    "        xx.append(x)\n",
    "        xx.append(x)\n",
    "    for i in range( ((int(np.sqrt(n)-1))*2) + 1 ):\n",
    "        #print(pos)\n",
    "        #print(i, POSlist)\n",
    "        if i % 4 == 0:\n",
    "            for j in range(xx[i]):\n",
    "                pos = pos + [1,0]\n",
    "                POSlist.append(pos)\n",
    "        if i % 4 == 1:\n",
    "            for j in range(xx[i]):\n",
    "                pos = pos + [0,1]\n",
    "                POSlist.append(pos)\n",
    "        if i % 4 == 2:\n",
    "            for j in range(xx[i]):\n",
    "                pos = pos + [-1,0]\n",
    "                POSlist.append(pos)\n",
    "        if i % 4 == 3:\n",
    "            for j in range(xx[i]):\n",
    "                pos = pos + [0,-1]\n",
    "                POSlist.append(pos)\n",
    "    ARRY = np.zeros([INn,INn])\n",
    "    for i in range(len(Dlist)):\n",
    "        ARRY[POSlist[i].tolist()[0], POSlist[i].tolist()[1]] = Dlist[i]"
   ]
  },
  {
   "cell_type": "code",
   "execution_count": 309,
   "metadata": {},
   "outputs": [
    {
     "data": {
      "text/plain": [
       "<matplotlib.image.AxesImage at 0x7faeaf1bcb90>"
      ]
     },
     "execution_count": 309,
     "metadata": {},
     "output_type": "execute_result"
    },
    {
     "data": {
      "image/png": "[encoded data removed]",
      "text/plain": [
       "<Figure size 432x288 with 1 Axes>"
      ]
     },
     "metadata": {
      "needs_background": "light"
     },
     "output_type": "display_data"
    }
   ],
   "source": [
    "plt.imshow(ARRY)"
   ]
  },
  {
   "cell_type": "code",
   "execution_count": 278,
   "metadata": {},
   "outputs": [
    {
     "data": {
      "text/plain": [
       "279"
      ]
     },
     "execution_count": 278,
     "metadata": {},
     "output_type": "execute_result"
    }
   ],
   "source": [
    "len(Dlist)"
   ]
  },
  {
   "cell_type": "code",
   "execution_count": null,
   "metadata": {},
   "outputs": [],
   "source": []
  },
  {
   "cell_type": "code",
   "execution_count": 273,
   "metadata": {},
   "outputs": [
    {
     "data": {
      "text/plain": [
       "array([[0., 0., 0., 0., 0., 0., 0., 0., 0., 0., 0., 0., 0., 0., 0.],\n",
       "       [0., 0., 0., 0., 0., 0., 0., 0., 0., 0., 0., 0., 0., 0., 0.],\n",
       "       [0., 0., 0., 0., 0., 0., 0., 0., 0., 0., 0., 0., 0., 0., 0.],\n",
       "       [0., 0., 0., 0., 0., 0., 0., 0., 0., 0., 0., 0., 0., 0., 0.],\n",
       "       [0., 0., 0., 0., 0., 0., 0., 0., 0., 0., 0., 0., 0., 0., 0.],\n",
       "       [0., 0., 0., 0., 0., 0., 0., 0., 0., 0., 0., 0., 0., 0., 0.],\n",
       "       [0., 0., 0., 0., 0., 0., 0., 0., 0., 0., 0., 0., 0., 0., 0.],\n",
       "       [0., 0., 0., 0., 0., 0., 0., 0., 0., 0., 0., 0., 0., 0., 0.],\n",
       "       [0., 0., 0., 0., 0., 0., 0., 0., 0., 0., 0., 0., 0., 0., 0.],\n",
       "       [0., 0., 0., 0., 0., 0., 0., 0., 0., 0., 0., 0., 0., 0., 0.],\n",
       "       [0., 0., 0., 0., 0., 0., 0., 0., 0., 0., 0., 0., 0., 0., 0.],\n",
       "       [0., 0., 0., 0., 0., 0., 0., 0., 0., 0., 0., 0., 0., 0., 0.],\n",
       "       [0., 0., 0., 0., 0., 0., 0., 0., 0., 0., 0., 0., 0., 0., 0.],\n",
       "       [0., 0., 0., 0., 0., 0., 0., 0., 0., 0., 0., 0., 0., 0., 0.],\n",
       "       [0., 0., 0., 0., 0., 0., 0., 0., 0., 0., 0., 0., 0., 0., 0.]])"
      ]
     },
     "execution_count": 273,
     "metadata": {},
     "output_type": "execute_result"
    }
   ],
   "source": [
    "ARRY"
   ]
  },
  {
   "cell_type": "code",
   "execution_count": null,
   "metadata": {},
   "outputs": [],
   "source": []
  }
 ],
 "metadata": {
  "kernelspec": {
   "display_name": "Python 3",
   "language": "python",
   "name": "python3"
  },
  "language_info": {
   "codemirror_mode": {
    "name": "ipython",
    "version": 3
   },
   "file_extension": ".py",
   "mimetype": "text/x-python",
   "name": "python",
   "nbconvert_exporter": "python",
   "pygments_lexer": "ipython3",
   "version": "3.7.4"
  }
 },
 "nbformat": 4,
 "nbformat_minor": 4
}
